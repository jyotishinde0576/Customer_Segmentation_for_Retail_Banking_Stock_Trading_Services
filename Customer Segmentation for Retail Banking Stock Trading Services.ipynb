{
 "cells": [
  {
   "cell_type": "markdown",
   "id": "68cf2ee1",
   "metadata": {},
   "source": [
    "# Customer Segmentation for Retail Banking Stock Trading Services"
   ]
  },
  {
   "cell_type": "markdown",
   "id": "9a01aa3e",
   "metadata": {},
   "source": [
    "A retail banking institution is going to float a stock trading facility for their existing customer. Since this kind of facitlity is nothing new , company knows that they will have to incetivise their customers for adopting their offerings.\n",
    "\n",
    "One issue with that is that only about 10% of the customers do enought trades for earnings after discounts to be profitable. Company wants to figure out, which are those 10% customer so that it can selectively offer them discount. there is no magic way to figure that out. So company rolled out this service to about 10000+ of their customers and observed their trading behaviour for 6 months and after that they labelled them into two revenue.grids 1 and 2. using this data, now they want us to build a classification model which can be used to classify their remaining customers into these revenue grids."
   ]
  },
  {
   "cell_type": "markdown",
   "id": "50802291",
   "metadata": {},
   "source": [
    "## Import required libraries"
   ]
  },
  {
   "cell_type": "code",
   "execution_count": 1,
   "id": "bad032c3",
   "metadata": {},
   "outputs": [],
   "source": [
    "import pandas as pd\n",
    "import math\n",
    "import numpy as np\n",
    "import matplotlib.pyplot as plt\n",
    "from sklearn.model_selection import train_test_split\n",
    "from sklearn.linear_model import LogisticRegression\n",
    "from sklearn.metrics import accuracy_score, precision_score, recall_score, f1_score\n",
    "from sklearn.metrics import confusion_matrix\n",
    "from sklearn.model_selection import cross_val_score\n",
    "from sklearn.neighbors import KNeighborsClassifier \n",
    "from sklearn.svm import SVC\n",
    "from sklearn.model_selection import GridSearchCV"
   ]
  },
  {
   "cell_type": "markdown",
   "id": "05b1ccda",
   "metadata": {},
   "source": [
    "## Read dataset"
   ]
  },
  {
   "cell_type": "code",
   "execution_count": 2,
   "id": "7131d0d1",
   "metadata": {},
   "outputs": [],
   "source": [
    "df=pd.read_csv(\"Existing Base.csv\")"
   ]
  },
  {
   "cell_type": "markdown",
   "id": "b13a26ff",
   "metadata": {},
   "source": [
    "## Data exploration"
   ]
  },
  {
   "cell_type": "code",
   "execution_count": 3,
   "id": "128cb4ec",
   "metadata": {},
   "outputs": [
    {
     "data": {
      "text/html": [
       "<div>\n",
       "<style scoped>\n",
       "    .dataframe tbody tr th:only-of-type {\n",
       "        vertical-align: middle;\n",
       "    }\n",
       "\n",
       "    .dataframe tbody tr th {\n",
       "        vertical-align: top;\n",
       "    }\n",
       "\n",
       "    .dataframe thead th {\n",
       "        text-align: right;\n",
       "    }\n",
       "</style>\n",
       "<table border=\"1\" class=\"dataframe\">\n",
       "  <thead>\n",
       "    <tr style=\"text-align: right;\">\n",
       "      <th></th>\n",
       "      <th>REF_NO</th>\n",
       "      <th>children</th>\n",
       "      <th>age_band</th>\n",
       "      <th>status</th>\n",
       "      <th>occupation</th>\n",
       "      <th>occupation_partner</th>\n",
       "      <th>home_status</th>\n",
       "      <th>family_income</th>\n",
       "      <th>self_employed</th>\n",
       "      <th>self_employed_partner</th>\n",
       "      <th>...</th>\n",
       "      <th>Investment Tax Saving Bond</th>\n",
       "      <th>Home Loan</th>\n",
       "      <th>Online Purchase Amount</th>\n",
       "      <th>Revenue Grid</th>\n",
       "      <th>gender</th>\n",
       "      <th>region</th>\n",
       "      <th>Investment in Commudity</th>\n",
       "      <th>Investment in Equity</th>\n",
       "      <th>Investment in Derivative</th>\n",
       "      <th>Portfolio Balance</th>\n",
       "    </tr>\n",
       "  </thead>\n",
       "  <tbody>\n",
       "    <tr>\n",
       "      <th>0</th>\n",
       "      <td>1</td>\n",
       "      <td>Zero</td>\n",
       "      <td>51-55</td>\n",
       "      <td>Partner</td>\n",
       "      <td>Manual Worker</td>\n",
       "      <td>Secretarial/Admin</td>\n",
       "      <td>Own Home</td>\n",
       "      <td>&lt;17,500, &gt;=15,000</td>\n",
       "      <td>No</td>\n",
       "      <td>No</td>\n",
       "      <td>...</td>\n",
       "      <td>19.99</td>\n",
       "      <td>0.00</td>\n",
       "      <td>0.00</td>\n",
       "      <td>1</td>\n",
       "      <td>Female</td>\n",
       "      <td>Wales</td>\n",
       "      <td>74.67</td>\n",
       "      <td>18.66</td>\n",
       "      <td>32.32</td>\n",
       "      <td>89.43</td>\n",
       "    </tr>\n",
       "    <tr>\n",
       "      <th>1</th>\n",
       "      <td>2</td>\n",
       "      <td>Zero</td>\n",
       "      <td>55-60</td>\n",
       "      <td>Single/Never Married</td>\n",
       "      <td>Retired</td>\n",
       "      <td>Retired</td>\n",
       "      <td>Own Home</td>\n",
       "      <td>&lt;27,500, &gt;=25,000</td>\n",
       "      <td>No</td>\n",
       "      <td>No</td>\n",
       "      <td>...</td>\n",
       "      <td>0.00</td>\n",
       "      <td>0.00</td>\n",
       "      <td>0.00</td>\n",
       "      <td>2</td>\n",
       "      <td>Female</td>\n",
       "      <td>North West</td>\n",
       "      <td>20.19</td>\n",
       "      <td>0.00</td>\n",
       "      <td>4.33</td>\n",
       "      <td>22.78</td>\n",
       "    </tr>\n",
       "    <tr>\n",
       "      <th>2</th>\n",
       "      <td>3</td>\n",
       "      <td>Zero</td>\n",
       "      <td>26-30</td>\n",
       "      <td>Single/Never Married</td>\n",
       "      <td>Professional</td>\n",
       "      <td>Other</td>\n",
       "      <td>Own Home</td>\n",
       "      <td>&lt;30,000, &gt;=27,500</td>\n",
       "      <td>Yes</td>\n",
       "      <td>No</td>\n",
       "      <td>...</td>\n",
       "      <td>0.00</td>\n",
       "      <td>3.49</td>\n",
       "      <td>0.00</td>\n",
       "      <td>2</td>\n",
       "      <td>Male</td>\n",
       "      <td>North</td>\n",
       "      <td>98.06</td>\n",
       "      <td>31.07</td>\n",
       "      <td>80.96</td>\n",
       "      <td>171.78</td>\n",
       "    </tr>\n",
       "    <tr>\n",
       "      <th>3</th>\n",
       "      <td>5</td>\n",
       "      <td>Zero</td>\n",
       "      <td>18-21</td>\n",
       "      <td>Single/Never Married</td>\n",
       "      <td>Professional</td>\n",
       "      <td>Manual Worker</td>\n",
       "      <td>Own Home</td>\n",
       "      <td>&lt;15,000, &gt;=12,500</td>\n",
       "      <td>No</td>\n",
       "      <td>No</td>\n",
       "      <td>...</td>\n",
       "      <td>0.00</td>\n",
       "      <td>0.00</td>\n",
       "      <td>0.00</td>\n",
       "      <td>2</td>\n",
       "      <td>Female</td>\n",
       "      <td>West Midlands</td>\n",
       "      <td>4.10</td>\n",
       "      <td>14.15</td>\n",
       "      <td>17.57</td>\n",
       "      <td>-41.70</td>\n",
       "    </tr>\n",
       "    <tr>\n",
       "      <th>4</th>\n",
       "      <td>6</td>\n",
       "      <td>Zero</td>\n",
       "      <td>45-50</td>\n",
       "      <td>Partner</td>\n",
       "      <td>Business Manager</td>\n",
       "      <td>Unknown</td>\n",
       "      <td>Own Home</td>\n",
       "      <td>&lt;30,000, &gt;=27,500</td>\n",
       "      <td>No</td>\n",
       "      <td>No</td>\n",
       "      <td>...</td>\n",
       "      <td>0.00</td>\n",
       "      <td>45.91</td>\n",
       "      <td>25.98</td>\n",
       "      <td>2</td>\n",
       "      <td>Female</td>\n",
       "      <td>Scotland</td>\n",
       "      <td>70.16</td>\n",
       "      <td>55.86</td>\n",
       "      <td>80.44</td>\n",
       "      <td>235.02</td>\n",
       "    </tr>\n",
       "  </tbody>\n",
       "</table>\n",
       "<p>5 rows × 32 columns</p>\n",
       "</div>"
      ],
      "text/plain": [
       "   REF_NO children age_band                status        occupation  \\\n",
       "0       1     Zero    51-55               Partner     Manual Worker   \n",
       "1       2     Zero    55-60  Single/Never Married           Retired   \n",
       "2       3     Zero    26-30  Single/Never Married      Professional   \n",
       "3       5     Zero    18-21  Single/Never Married      Professional   \n",
       "4       6     Zero    45-50               Partner  Business Manager   \n",
       "\n",
       "  occupation_partner home_status      family_income self_employed  \\\n",
       "0  Secretarial/Admin    Own Home  <17,500, >=15,000            No   \n",
       "1            Retired    Own Home  <27,500, >=25,000            No   \n",
       "2              Other    Own Home  <30,000, >=27,500           Yes   \n",
       "3      Manual Worker    Own Home  <15,000, >=12,500            No   \n",
       "4            Unknown    Own Home  <30,000, >=27,500            No   \n",
       "\n",
       "  self_employed_partner  ...  Investment Tax Saving Bond Home Loan  \\\n",
       "0                    No  ...                       19.99      0.00   \n",
       "1                    No  ...                        0.00      0.00   \n",
       "2                    No  ...                        0.00      3.49   \n",
       "3                    No  ...                        0.00      0.00   \n",
       "4                    No  ...                        0.00     45.91   \n",
       "\n",
       "  Online Purchase Amount Revenue Grid  gender         region  \\\n",
       "0                   0.00            1  Female          Wales   \n",
       "1                   0.00            2  Female     North West   \n",
       "2                   0.00            2    Male          North   \n",
       "3                   0.00            2  Female  West Midlands   \n",
       "4                  25.98            2  Female       Scotland   \n",
       "\n",
       "   Investment in Commudity  Investment in Equity  Investment in Derivative  \\\n",
       "0                    74.67                 18.66                     32.32   \n",
       "1                    20.19                  0.00                      4.33   \n",
       "2                    98.06                 31.07                     80.96   \n",
       "3                     4.10                 14.15                     17.57   \n",
       "4                    70.16                 55.86                     80.44   \n",
       "\n",
       "   Portfolio Balance  \n",
       "0              89.43  \n",
       "1              22.78  \n",
       "2             171.78  \n",
       "3             -41.70  \n",
       "4             235.02  \n",
       "\n",
       "[5 rows x 32 columns]"
      ]
     },
     "execution_count": 3,
     "metadata": {},
     "output_type": "execute_result"
    }
   ],
   "source": [
    "# First 5 rows\n",
    "df.head()"
   ]
  },
  {
   "cell_type": "code",
   "execution_count": 4,
   "id": "0127e18d",
   "metadata": {},
   "outputs": [
    {
     "data": {
      "text/plain": [
       "(10155, 32)"
      ]
     },
     "execution_count": 4,
     "metadata": {},
     "output_type": "execute_result"
    }
   ],
   "source": [
    "# shape of dataset\n",
    "df.shape"
   ]
  },
  {
   "cell_type": "code",
   "execution_count": 5,
   "id": "426d6a6b",
   "metadata": {},
   "outputs": [
    {
     "data": {
      "text/html": [
       "<div>\n",
       "<style scoped>\n",
       "    .dataframe tbody tr th:only-of-type {\n",
       "        vertical-align: middle;\n",
       "    }\n",
       "\n",
       "    .dataframe tbody tr th {\n",
       "        vertical-align: top;\n",
       "    }\n",
       "\n",
       "    .dataframe thead th {\n",
       "        text-align: right;\n",
       "    }\n",
       "</style>\n",
       "<table border=\"1\" class=\"dataframe\">\n",
       "  <thead>\n",
       "    <tr style=\"text-align: right;\">\n",
       "      <th></th>\n",
       "      <th>REF_NO</th>\n",
       "      <th>year_last_moved</th>\n",
       "      <th>Average Credit Card Transaction</th>\n",
       "      <th>Balance Transfer</th>\n",
       "      <th>Term Deposit</th>\n",
       "      <th>Life Insurance</th>\n",
       "      <th>Medical Insurance</th>\n",
       "      <th>Average A/C Balance</th>\n",
       "      <th>Personal Loan</th>\n",
       "      <th>Investment in Mutual Fund</th>\n",
       "      <th>Investment Tax Saving Bond</th>\n",
       "      <th>Home Loan</th>\n",
       "      <th>Online Purchase Amount</th>\n",
       "      <th>Revenue Grid</th>\n",
       "      <th>Investment in Commudity</th>\n",
       "      <th>Investment in Equity</th>\n",
       "      <th>Investment in Derivative</th>\n",
       "      <th>Portfolio Balance</th>\n",
       "    </tr>\n",
       "  </thead>\n",
       "  <tbody>\n",
       "    <tr>\n",
       "      <th>count</th>\n",
       "      <td>10155.000000</td>\n",
       "      <td>10155.000000</td>\n",
       "      <td>10155.000000</td>\n",
       "      <td>10155.000000</td>\n",
       "      <td>10155.000000</td>\n",
       "      <td>10155.000000</td>\n",
       "      <td>10155.000000</td>\n",
       "      <td>10155.000000</td>\n",
       "      <td>10155.000000</td>\n",
       "      <td>10155.000000</td>\n",
       "      <td>10155.000000</td>\n",
       "      <td>10155.000000</td>\n",
       "      <td>10155.000000</td>\n",
       "      <td>10155.000000</td>\n",
       "      <td>10155.000000</td>\n",
       "      <td>10155.000000</td>\n",
       "      <td>10155.000000</td>\n",
       "      <td>10155.000000</td>\n",
       "    </tr>\n",
       "    <tr>\n",
       "      <th>mean</th>\n",
       "      <td>5770.830822</td>\n",
       "      <td>1968.376366</td>\n",
       "      <td>23.441757</td>\n",
       "      <td>46.417760</td>\n",
       "      <td>27.579851</td>\n",
       "      <td>66.242131</td>\n",
       "      <td>19.142050</td>\n",
       "      <td>32.084965</td>\n",
       "      <td>26.006003</td>\n",
       "      <td>42.339698</td>\n",
       "      <td>6.112071</td>\n",
       "      <td>4.482002</td>\n",
       "      <td>19.162772</td>\n",
       "      <td>1.893058</td>\n",
       "      <td>36.564886</td>\n",
       "      <td>21.698694</td>\n",
       "      <td>31.988647</td>\n",
       "      <td>90.460237</td>\n",
       "    </tr>\n",
       "    <tr>\n",
       "      <th>std</th>\n",
       "      <td>3324.837813</td>\n",
       "      <td>180.202242</td>\n",
       "      <td>50.872127</td>\n",
       "      <td>78.477609</td>\n",
       "      <td>53.952550</td>\n",
       "      <td>95.545316</td>\n",
       "      <td>32.451856</td>\n",
       "      <td>45.486614</td>\n",
       "      <td>84.275743</td>\n",
       "      <td>63.898899</td>\n",
       "      <td>12.833675</td>\n",
       "      <td>9.982641</td>\n",
       "      <td>89.666263</td>\n",
       "      <td>0.309055</td>\n",
       "      <td>42.270530</td>\n",
       "      <td>31.893841</td>\n",
       "      <td>39.106347</td>\n",
       "      <td>107.265475</td>\n",
       "    </tr>\n",
       "    <tr>\n",
       "      <th>min</th>\n",
       "      <td>1.000000</td>\n",
       "      <td>0.000000</td>\n",
       "      <td>0.000000</td>\n",
       "      <td>0.000000</td>\n",
       "      <td>0.000000</td>\n",
       "      <td>0.000000</td>\n",
       "      <td>0.000000</td>\n",
       "      <td>0.000000</td>\n",
       "      <td>0.000000</td>\n",
       "      <td>0.000000</td>\n",
       "      <td>0.000000</td>\n",
       "      <td>0.000000</td>\n",
       "      <td>0.000000</td>\n",
       "      <td>1.000000</td>\n",
       "      <td>0.000000</td>\n",
       "      <td>0.000000</td>\n",
       "      <td>0.000000</td>\n",
       "      <td>-78.430000</td>\n",
       "    </tr>\n",
       "    <tr>\n",
       "      <th>25%</th>\n",
       "      <td>2903.500000</td>\n",
       "      <td>1978.000000</td>\n",
       "      <td>0.000000</td>\n",
       "      <td>0.000000</td>\n",
       "      <td>0.000000</td>\n",
       "      <td>0.000000</td>\n",
       "      <td>0.000000</td>\n",
       "      <td>0.000000</td>\n",
       "      <td>0.000000</td>\n",
       "      <td>0.000000</td>\n",
       "      <td>0.000000</td>\n",
       "      <td>0.000000</td>\n",
       "      <td>0.000000</td>\n",
       "      <td>2.000000</td>\n",
       "      <td>8.230000</td>\n",
       "      <td>4.670000</td>\n",
       "      <td>8.740000</td>\n",
       "      <td>26.605000</td>\n",
       "    </tr>\n",
       "    <tr>\n",
       "      <th>50%</th>\n",
       "      <td>5770.000000</td>\n",
       "      <td>1988.000000</td>\n",
       "      <td>0.000000</td>\n",
       "      <td>17.960000</td>\n",
       "      <td>0.000000</td>\n",
       "      <td>31.980000</td>\n",
       "      <td>0.510000</td>\n",
       "      <td>14.990000</td>\n",
       "      <td>0.000000</td>\n",
       "      <td>23.480000</td>\n",
       "      <td>0.000000</td>\n",
       "      <td>0.000000</td>\n",
       "      <td>0.000000</td>\n",
       "      <td>2.000000</td>\n",
       "      <td>23.980000</td>\n",
       "      <td>12.980000</td>\n",
       "      <td>21.340000</td>\n",
       "      <td>66.200000</td>\n",
       "    </tr>\n",
       "    <tr>\n",
       "      <th>75%</th>\n",
       "      <td>8665.500000</td>\n",
       "      <td>1994.000000</td>\n",
       "      <td>23.980000</td>\n",
       "      <td>65.385000</td>\n",
       "      <td>34.990000</td>\n",
       "      <td>94.390000</td>\n",
       "      <td>27.470000</td>\n",
       "      <td>46.480000</td>\n",
       "      <td>21.480000</td>\n",
       "      <td>59.555000</td>\n",
       "      <td>5.975000</td>\n",
       "      <td>4.490000</td>\n",
       "      <td>7.980000</td>\n",
       "      <td>2.000000</td>\n",
       "      <td>50.790000</td>\n",
       "      <td>28.300000</td>\n",
       "      <td>42.980000</td>\n",
       "      <td>125.935000</td>\n",
       "    </tr>\n",
       "    <tr>\n",
       "      <th>max</th>\n",
       "      <td>11518.000000</td>\n",
       "      <td>1999.000000</td>\n",
       "      <td>662.260000</td>\n",
       "      <td>2951.760000</td>\n",
       "      <td>784.820000</td>\n",
       "      <td>2930.410000</td>\n",
       "      <td>591.040000</td>\n",
       "      <td>626.240000</td>\n",
       "      <td>4905.930000</td>\n",
       "      <td>2561.270000</td>\n",
       "      <td>156.870000</td>\n",
       "      <td>162.350000</td>\n",
       "      <td>4306.420000</td>\n",
       "      <td>2.000000</td>\n",
       "      <td>1231.090000</td>\n",
       "      <td>1279.100000</td>\n",
       "      <td>1771.160000</td>\n",
       "      <td>4283.560000</td>\n",
       "    </tr>\n",
       "  </tbody>\n",
       "</table>\n",
       "</div>"
      ],
      "text/plain": [
       "             REF_NO  year_last_moved  Average Credit Card Transaction  \\\n",
       "count  10155.000000     10155.000000                     10155.000000   \n",
       "mean    5770.830822      1968.376366                        23.441757   \n",
       "std     3324.837813       180.202242                        50.872127   \n",
       "min        1.000000         0.000000                         0.000000   \n",
       "25%     2903.500000      1978.000000                         0.000000   \n",
       "50%     5770.000000      1988.000000                         0.000000   \n",
       "75%     8665.500000      1994.000000                        23.980000   \n",
       "max    11518.000000      1999.000000                       662.260000   \n",
       "\n",
       "       Balance Transfer  Term Deposit  Life Insurance  Medical Insurance  \\\n",
       "count      10155.000000  10155.000000    10155.000000       10155.000000   \n",
       "mean          46.417760     27.579851       66.242131          19.142050   \n",
       "std           78.477609     53.952550       95.545316          32.451856   \n",
       "min            0.000000      0.000000        0.000000           0.000000   \n",
       "25%            0.000000      0.000000        0.000000           0.000000   \n",
       "50%           17.960000      0.000000       31.980000           0.510000   \n",
       "75%           65.385000     34.990000       94.390000          27.470000   \n",
       "max         2951.760000    784.820000     2930.410000         591.040000   \n",
       "\n",
       "       Average A/C Balance  Personal Loan  Investment in Mutual Fund  \\\n",
       "count         10155.000000   10155.000000               10155.000000   \n",
       "mean             32.084965      26.006003                  42.339698   \n",
       "std              45.486614      84.275743                  63.898899   \n",
       "min               0.000000       0.000000                   0.000000   \n",
       "25%               0.000000       0.000000                   0.000000   \n",
       "50%              14.990000       0.000000                  23.480000   \n",
       "75%              46.480000      21.480000                  59.555000   \n",
       "max             626.240000    4905.930000                2561.270000   \n",
       "\n",
       "       Investment Tax Saving Bond     Home Loan  Online Purchase Amount  \\\n",
       "count                10155.000000  10155.000000            10155.000000   \n",
       "mean                     6.112071      4.482002               19.162772   \n",
       "std                     12.833675      9.982641               89.666263   \n",
       "min                      0.000000      0.000000                0.000000   \n",
       "25%                      0.000000      0.000000                0.000000   \n",
       "50%                      0.000000      0.000000                0.000000   \n",
       "75%                      5.975000      4.490000                7.980000   \n",
       "max                    156.870000    162.350000             4306.420000   \n",
       "\n",
       "       Revenue Grid  Investment in Commudity  Investment in Equity  \\\n",
       "count  10155.000000             10155.000000          10155.000000   \n",
       "mean       1.893058                36.564886             21.698694   \n",
       "std        0.309055                42.270530             31.893841   \n",
       "min        1.000000                 0.000000              0.000000   \n",
       "25%        2.000000                 8.230000              4.670000   \n",
       "50%        2.000000                23.980000             12.980000   \n",
       "75%        2.000000                50.790000             28.300000   \n",
       "max        2.000000              1231.090000           1279.100000   \n",
       "\n",
       "       Investment in Derivative  Portfolio Balance  \n",
       "count              10155.000000       10155.000000  \n",
       "mean                  31.988647          90.460237  \n",
       "std                   39.106347         107.265475  \n",
       "min                    0.000000         -78.430000  \n",
       "25%                    8.740000          26.605000  \n",
       "50%                   21.340000          66.200000  \n",
       "75%                   42.980000         125.935000  \n",
       "max                 1771.160000        4283.560000  "
      ]
     },
     "execution_count": 5,
     "metadata": {},
     "output_type": "execute_result"
    }
   ],
   "source": [
    "# some statistics of dataset\n",
    "df.describe()"
   ]
  },
  {
   "cell_type": "code",
   "execution_count": 6,
   "id": "11b596fa",
   "metadata": {},
   "outputs": [
    {
     "data": {
      "text/plain": [
       "REF_NO                             0\n",
       "children                           0\n",
       "age_band                           0\n",
       "status                             0\n",
       "occupation                         0\n",
       "occupation_partner                 0\n",
       "home_status                        0\n",
       "family_income                      0\n",
       "self_employed                      0\n",
       "self_employed_partner              0\n",
       "year_last_moved                    0\n",
       "TVarea                             0\n",
       "post_code                          0\n",
       "post_area                          0\n",
       "Average Credit Card Transaction    0\n",
       "Balance Transfer                   0\n",
       "Term Deposit                       0\n",
       "Life Insurance                     0\n",
       "Medical Insurance                  0\n",
       "Average A/C Balance                0\n",
       "Personal Loan                      0\n",
       "Investment in Mutual Fund          0\n",
       "Investment Tax Saving Bond         0\n",
       "Home Loan                          0\n",
       "Online Purchase Amount             0\n",
       "Revenue Grid                       0\n",
       "gender                             0\n",
       "region                             0\n",
       "Investment in Commudity            0\n",
       "Investment in Equity               0\n",
       "Investment in Derivative           0\n",
       "Portfolio Balance                  0\n",
       "dtype: int64"
      ]
     },
     "execution_count": 6,
     "metadata": {},
     "output_type": "execute_result"
    }
   ],
   "source": [
    "# Count of null value in each column\n",
    "df.isnull().sum()"
   ]
  },
  {
   "cell_type": "code",
   "execution_count": 7,
   "id": "6faf9917",
   "metadata": {},
   "outputs": [
    {
     "data": {
      "text/plain": [
       "REF_NO                               int64\n",
       "children                            object\n",
       "age_band                            object\n",
       "status                              object\n",
       "occupation                          object\n",
       "occupation_partner                  object\n",
       "home_status                         object\n",
       "family_income                       object\n",
       "self_employed                       object\n",
       "self_employed_partner               object\n",
       "year_last_moved                      int64\n",
       "TVarea                              object\n",
       "post_code                           object\n",
       "post_area                           object\n",
       "Average Credit Card Transaction    float64\n",
       "Balance Transfer                   float64\n",
       "Term Deposit                       float64\n",
       "Life Insurance                     float64\n",
       "Medical Insurance                  float64\n",
       "Average A/C Balance                float64\n",
       "Personal Loan                      float64\n",
       "Investment in Mutual Fund          float64\n",
       "Investment Tax Saving Bond         float64\n",
       "Home Loan                          float64\n",
       "Online Purchase Amount             float64\n",
       "Revenue Grid                         int64\n",
       "gender                              object\n",
       "region                              object\n",
       "Investment in Commudity            float64\n",
       "Investment in Equity               float64\n",
       "Investment in Derivative           float64\n",
       "Portfolio Balance                  float64\n",
       "dtype: object"
      ]
     },
     "execution_count": 7,
     "metadata": {},
     "output_type": "execute_result"
    }
   ],
   "source": [
    "# Data type of each column\n",
    "df.dtypes"
   ]
  },
  {
   "cell_type": "markdown",
   "id": "e2714f51",
   "metadata": {},
   "source": [
    "we need to convert categorical column into numeric"
   ]
  },
  {
   "cell_type": "markdown",
   "id": "2b86bba7",
   "metadata": {},
   "source": [
    "## Data Cleaning"
   ]
  },
  {
   "cell_type": "markdown",
   "id": "5ca87320",
   "metadata": {},
   "source": [
    "###  Children column:"
   ]
  },
  {
   "cell_type": "code",
   "execution_count": 8,
   "id": "d7e1f525",
   "metadata": {},
   "outputs": [
    {
     "data": {
      "text/plain": [
       "Zero    6208\n",
       "1       1848\n",
       "2       1607\n",
       "3        473\n",
       "4+        19\n",
       "Name: children, dtype: int64"
      ]
     },
     "execution_count": 8,
     "metadata": {},
     "output_type": "execute_result"
    }
   ],
   "source": [
    "df[\"children\"].value_counts()"
   ]
  },
  {
   "cell_type": "code",
   "execution_count": 9,
   "id": "04bd8da0",
   "metadata": {},
   "outputs": [],
   "source": [
    "#replace 'zero' with'0' and '4+' with '4'\n",
    "df.loc[df[\"children\"]==\"Zero\",\"children\"]=\"0\"\n",
    "df.loc[df[\"children\"]==\"4+\",\"children\"]=\"4\"\n",
    "df[\"children\"]=pd.to_numeric(df[\"children\"],errors=\"coerce\")"
   ]
  },
  {
   "cell_type": "markdown",
   "id": "0e4964ac",
   "metadata": {},
   "source": [
    "###  Revenue grid column:"
   ]
  },
  {
   "cell_type": "code",
   "execution_count": 10,
   "id": "0971afc6",
   "metadata": {},
   "outputs": [
    {
     "data": {
      "text/plain": [
       "2    9069\n",
       "1    1086\n",
       "Name: Revenue Grid, dtype: int64"
      ]
     },
     "execution_count": 10,
     "metadata": {},
     "output_type": "execute_result"
    }
   ],
   "source": [
    "df[\"Revenue Grid\"].value_counts()"
   ]
  },
  {
   "cell_type": "markdown",
   "id": "6fb047d0",
   "metadata": {},
   "source": [
    "we create new column \"y\" where we will change the values of 'revenue grid' column. we convert all '2' into '0' and all '1' remain same."
   ]
  },
  {
   "cell_type": "code",
   "execution_count": 11,
   "id": "0e1d3869",
   "metadata": {},
   "outputs": [],
   "source": [
    "df[\"y\"]=np.where(df[\"Revenue Grid\"]==2,0,1)"
   ]
  },
  {
   "cell_type": "code",
   "execution_count": 12,
   "id": "cc90925b",
   "metadata": {},
   "outputs": [
    {
     "name": "stderr",
     "output_type": "stream",
     "text": [
      "C:\\Users\\d\\AppData\\Local\\Temp\\ipykernel_20556\\91417527.py:2: FutureWarning: In a future version of pandas all arguments of DataFrame.drop except for the argument 'labels' will be keyword-only.\n",
      "  df=df.drop([\"Revenue Grid\"],1)\n"
     ]
    }
   ],
   "source": [
    "# drop original revenue grid column\n",
    "df=df.drop([\"Revenue Grid\"],1)"
   ]
  },
  {
   "cell_type": "code",
   "execution_count": 13,
   "id": "741b64c7",
   "metadata": {},
   "outputs": [
    {
     "data": {
      "text/plain": [
       "0    9069\n",
       "1    1086\n",
       "Name: y, dtype: int64"
      ]
     },
     "execution_count": 13,
     "metadata": {},
     "output_type": "execute_result"
    }
   ],
   "source": [
    "df[\"y\"].value_counts()"
   ]
  },
  {
   "cell_type": "markdown",
   "id": "0501eb78",
   "metadata": {},
   "source": [
    "###  age_band column:"
   ]
  },
  {
   "cell_type": "code",
   "execution_count": 14,
   "id": "4b74efe2",
   "metadata": {},
   "outputs": [
    {
     "data": {
      "text/plain": [
       "45-50      1359\n",
       "36-40      1134\n",
       "41-45      1112\n",
       "31-35      1061\n",
       "51-55      1052\n",
       "55-60      1047\n",
       "26-30       927\n",
       "61-65       881\n",
       "65-70       598\n",
       "22-25       456\n",
       "71+         410\n",
       "18-21        63\n",
       "Unknown      55\n",
       "Name: age_band, dtype: int64"
      ]
     },
     "execution_count": 14,
     "metadata": {},
     "output_type": "execute_result"
    }
   ],
   "source": [
    "df[\"age_band\"].value_counts()"
   ]
  },
  {
   "cell_type": "markdown",
   "id": "b447689a",
   "metadata": {},
   "source": [
    "In age_band column,their are 13 unique variable.so we can not deal with them.so we compare them with \"y\" column which is target column and we can club those categories for which average is similar."
   ]
  },
  {
   "cell_type": "code",
   "execution_count": 15,
   "id": "fef0ea34",
   "metadata": {},
   "outputs": [
    {
     "data": {
      "text/plain": [
       "age_band\n",
       "18-21      0.17\n",
       "22-25      0.11\n",
       "26-30      0.11\n",
       "31-35      0.11\n",
       "36-40      0.13\n",
       "41-45      0.11\n",
       "45-50      0.10\n",
       "51-55      0.10\n",
       "55-60      0.11\n",
       "61-65      0.09\n",
       "65-70      0.10\n",
       "71+        0.10\n",
       "Unknown    0.05\n",
       "Name: y, dtype: float64"
      ]
     },
     "execution_count": 15,
     "metadata": {},
     "output_type": "execute_result"
    }
   ],
   "source": [
    "round(df.groupby(\"age_band\")[\"y\"].mean(),2)"
   ]
  },
  {
   "cell_type": "code",
   "execution_count": 16,
   "id": "7a074e82",
   "metadata": {},
   "outputs": [
    {
     "data": {
      "text/html": [
       "<div>\n",
       "<style scoped>\n",
       "    .dataframe tbody tr th:only-of-type {\n",
       "        vertical-align: middle;\n",
       "    }\n",
       "\n",
       "    .dataframe tbody tr th {\n",
       "        vertical-align: top;\n",
       "    }\n",
       "\n",
       "    .dataframe thead th {\n",
       "        text-align: right;\n",
       "    }\n",
       "</style>\n",
       "<table border=\"1\" class=\"dataframe\">\n",
       "  <thead>\n",
       "    <tr style=\"text-align: right;\">\n",
       "      <th></th>\n",
       "      <th>Unknown</th>\n",
       "      <th>ab_10</th>\n",
       "      <th>ab_11</th>\n",
       "      <th>ab_13</th>\n",
       "      <th>ab_17</th>\n",
       "      <th>ab_9</th>\n",
       "    </tr>\n",
       "  </thead>\n",
       "  <tbody>\n",
       "    <tr>\n",
       "      <th>0</th>\n",
       "      <td>0</td>\n",
       "      <td>1</td>\n",
       "      <td>0</td>\n",
       "      <td>0</td>\n",
       "      <td>0</td>\n",
       "      <td>0</td>\n",
       "    </tr>\n",
       "    <tr>\n",
       "      <th>1</th>\n",
       "      <td>0</td>\n",
       "      <td>0</td>\n",
       "      <td>1</td>\n",
       "      <td>0</td>\n",
       "      <td>0</td>\n",
       "      <td>0</td>\n",
       "    </tr>\n",
       "    <tr>\n",
       "      <th>2</th>\n",
       "      <td>0</td>\n",
       "      <td>0</td>\n",
       "      <td>1</td>\n",
       "      <td>0</td>\n",
       "      <td>0</td>\n",
       "      <td>0</td>\n",
       "    </tr>\n",
       "    <tr>\n",
       "      <th>3</th>\n",
       "      <td>0</td>\n",
       "      <td>0</td>\n",
       "      <td>0</td>\n",
       "      <td>0</td>\n",
       "      <td>1</td>\n",
       "      <td>0</td>\n",
       "    </tr>\n",
       "    <tr>\n",
       "      <th>4</th>\n",
       "      <td>0</td>\n",
       "      <td>1</td>\n",
       "      <td>0</td>\n",
       "      <td>0</td>\n",
       "      <td>0</td>\n",
       "      <td>0</td>\n",
       "    </tr>\n",
       "  </tbody>\n",
       "</table>\n",
       "</div>"
      ],
      "text/plain": [
       "   Unknown  ab_10  ab_11  ab_13  ab_17  ab_9\n",
       "0        0      1      0      0      0     0\n",
       "1        0      0      1      0      0     0\n",
       "2        0      0      1      0      0     0\n",
       "3        0      0      0      0      1     0\n",
       "4        0      1      0      0      0     0"
      ]
     },
     "execution_count": 16,
     "metadata": {},
     "output_type": "execute_result"
    }
   ],
   "source": [
    "for i in range(len(df)):\n",
    "    if df[\"age_band\"][i] in [\"71+\",\"65-70\",\"51-55\",\"45-50\"]:\n",
    "        df.loc[i,\"age_band\"]=\"ab_10\"\n",
    "    if df[\"age_band\"][i] in [\"55-60\",\"41-45\",\"31-35\",\"22-25\",\"26-30\"]:\n",
    "        df.loc[i,\"age_band\"]=\"ab_11\"\n",
    "    if df[\"age_band\"][i]==\"36-40\":\n",
    "        df.loc[i,\"age_band\"]=\"ab_13\"\n",
    "    if df[\"age_band\"][i]==\"18-21\":\n",
    "        df.loc[i,\"age_band\"]=\"ab_17\"\n",
    "    if df[\"age_band\"][i]==\"61-65\":\n",
    "        df.loc[i,\"age_band\"]=\"ab_9\"\n",
    "ab_dummies=pd.get_dummies(df[\"age_band\"])\n",
    "ab_dummies.head()"
   ]
  },
  {
   "cell_type": "markdown",
   "id": "002427aa",
   "metadata": {},
   "source": [
    "we will add it back to dataset and drop the original age_band column and dummy for 'unknown'"
   ]
  },
  {
   "cell_type": "code",
   "execution_count": 17,
   "id": "d49ff2b7",
   "metadata": {},
   "outputs": [
    {
     "name": "stderr",
     "output_type": "stream",
     "text": [
      "C:\\Users\\d\\AppData\\Local\\Temp\\ipykernel_20556\\2272400917.py:1: FutureWarning: In a future version of pandas all arguments of concat except for the argument 'objs' will be keyword-only.\n",
      "  df=pd.concat([df,ab_dummies],1)\n",
      "C:\\Users\\d\\AppData\\Local\\Temp\\ipykernel_20556\\2272400917.py:2: FutureWarning: In a future version of pandas all arguments of DataFrame.drop except for the argument 'labels' will be keyword-only.\n",
      "  df=df.drop([\"age_band\",\"Unknown\"],1)\n"
     ]
    }
   ],
   "source": [
    "df=pd.concat([df,ab_dummies],1)\n",
    "df=df.drop([\"age_band\",\"Unknown\"],1)"
   ]
  },
  {
   "cell_type": "markdown",
   "id": "cd3d871b",
   "metadata": {},
   "source": [
    "### Status column:"
   ]
  },
  {
   "cell_type": "code",
   "execution_count": 18,
   "id": "61a6f72a",
   "metadata": {},
   "outputs": [
    {
     "data": {
      "text/plain": [
       "Partner                 7709\n",
       "Single/Never Married    1101\n",
       "Divorced/Separated       679\n",
       "Widowed                  618\n",
       "Unknown                   48\n",
       "Name: status, dtype: int64"
      ]
     },
     "execution_count": 18,
     "metadata": {},
     "output_type": "execute_result"
    }
   ],
   "source": [
    "df[\"status\"].value_counts()"
   ]
  },
  {
   "cell_type": "code",
   "execution_count": 19,
   "id": "b1e5b29d",
   "metadata": {},
   "outputs": [
    {
     "data": {
      "image/png": "[encoded data removed]",
      "text/plain": [
       "<Figure size 500x500 with 1 Axes>"
      ]
     },
     "metadata": {},
     "output_type": "display_data"
    }
   ],
   "source": [
    "# Pie chart of status column\n",
    "plt.figure(figsize=(5,5))\n",
    "df['status'].value_counts().plot(kind='pie', autopct='%1.1f%%')\n",
    "plt.axis('equal')\n",
    "plt.title('Distribution of Status')\n",
    "plt.show()"
   ]
  },
  {
   "cell_type": "markdown",
   "id": "b55975ae",
   "metadata": {},
   "source": [
    "we will create dummy variables for status column and drop the original 'status' column"
   ]
  },
  {
   "cell_type": "code",
   "execution_count": 20,
   "id": "e96c9645",
   "metadata": {},
   "outputs": [
    {
     "name": "stderr",
     "output_type": "stream",
     "text": [
      "C:\\Users\\d\\AppData\\Local\\Temp\\ipykernel_20556\\4215414425.py:4: FutureWarning: In a future version of pandas all arguments of DataFrame.drop except for the argument 'labels' will be keyword-only.\n",
      "  df=df.drop([\"status\"],1)\n"
     ]
    }
   ],
   "source": [
    "df[\"st_partner\"]=np.where(df[\"status\"]==\"Partner\",1,0)\n",
    "df[\"st_singleNm\"]=np.where(df[\"status\"]==\"Single/Never Married\",1,0)\n",
    "df[\"st_divSep\"]=np.where(df[\"status\"]==\"Divorced/Separated\",1,0)\n",
    "df=df.drop([\"status\"],1)"
   ]
  },
  {
   "cell_type": "markdown",
   "id": "35ac69f3",
   "metadata": {},
   "source": [
    "### Occupation column:"
   ]
  },
  {
   "cell_type": "code",
   "execution_count": 21,
   "id": "d69a5062",
   "metadata": {},
   "outputs": [
    {
     "data": {
      "text/plain": [
       "Professional         2449\n",
       "Retired              2206\n",
       "Secretarial/Admin    1797\n",
       "Housewife            1255\n",
       "Business Manager      732\n",
       "Unknown               567\n",
       "Manual Worker         556\n",
       "Other                 537\n",
       "Student                56\n",
       "Name: occupation, dtype: int64"
      ]
     },
     "execution_count": 21,
     "metadata": {},
     "output_type": "execute_result"
    }
   ],
   "source": [
    "df[\"occupation\"].value_counts()"
   ]
  },
  {
   "cell_type": "code",
   "execution_count": 22,
   "id": "5a62dafe",
   "metadata": {},
   "outputs": [
    {
     "data": {
      "image/png": "[encoded data removed]",
      "text/plain": [
       "<Figure size 500x500 with 1 Axes>"
      ]
     },
     "metadata": {},
     "output_type": "display_data"
    }
   ],
   "source": [
    "# Pie chart of occupatin column\n",
    "plt.figure(figsize=(5,5))\n",
    "df['occupation'].value_counts().plot(kind='pie', autopct='%1.1f%%')\n",
    "plt.axis('equal')\n",
    "plt.title('Distribution of occupation')\n",
    "plt.show()"
   ]
  },
  {
   "cell_type": "markdown",
   "id": "f7fe0e08",
   "metadata": {},
   "source": [
    " we compare occupation column with \"y\" column which is target column and we can club those categories for which average is similar."
   ]
  },
  {
   "cell_type": "code",
   "execution_count": 23,
   "id": "99a13d92",
   "metadata": {},
   "outputs": [
    {
     "data": {
      "text/plain": [
       "occupation\n",
       "Business Manager     0.12\n",
       "Housewife            0.09\n",
       "Manual Worker        0.11\n",
       "Other                0.11\n",
       "Professional         0.12\n",
       "Retired              0.10\n",
       "Secretarial/Admin    0.11\n",
       "Student              0.11\n",
       "Unknown              0.11\n",
       "Name: y, dtype: float64"
      ]
     },
     "execution_count": 23,
     "metadata": {},
     "output_type": "execute_result"
    }
   ],
   "source": [
    "round(df.groupby(\"occupation\")[\"y\"].mean(),2)"
   ]
  },
  {
   "cell_type": "code",
   "execution_count": 24,
   "id": "0963d5e3",
   "metadata": {},
   "outputs": [
    {
     "data": {
      "text/html": [
       "<div>\n",
       "<style scoped>\n",
       "    .dataframe tbody tr th:only-of-type {\n",
       "        vertical-align: middle;\n",
       "    }\n",
       "\n",
       "    .dataframe tbody tr th {\n",
       "        vertical-align: top;\n",
       "    }\n",
       "\n",
       "    .dataframe thead th {\n",
       "        text-align: right;\n",
       "    }\n",
       "</style>\n",
       "<table border=\"1\" class=\"dataframe\">\n",
       "  <thead>\n",
       "    <tr style=\"text-align: right;\">\n",
       "      <th></th>\n",
       "      <th>Housewife</th>\n",
       "      <th>oc_10</th>\n",
       "      <th>oc_11</th>\n",
       "      <th>oc_12</th>\n",
       "    </tr>\n",
       "  </thead>\n",
       "  <tbody>\n",
       "    <tr>\n",
       "      <th>0</th>\n",
       "      <td>0</td>\n",
       "      <td>0</td>\n",
       "      <td>1</td>\n",
       "      <td>0</td>\n",
       "    </tr>\n",
       "    <tr>\n",
       "      <th>1</th>\n",
       "      <td>0</td>\n",
       "      <td>1</td>\n",
       "      <td>0</td>\n",
       "      <td>0</td>\n",
       "    </tr>\n",
       "    <tr>\n",
       "      <th>2</th>\n",
       "      <td>0</td>\n",
       "      <td>0</td>\n",
       "      <td>0</td>\n",
       "      <td>1</td>\n",
       "    </tr>\n",
       "    <tr>\n",
       "      <th>3</th>\n",
       "      <td>0</td>\n",
       "      <td>0</td>\n",
       "      <td>0</td>\n",
       "      <td>1</td>\n",
       "    </tr>\n",
       "    <tr>\n",
       "      <th>4</th>\n",
       "      <td>0</td>\n",
       "      <td>0</td>\n",
       "      <td>0</td>\n",
       "      <td>1</td>\n",
       "    </tr>\n",
       "  </tbody>\n",
       "</table>\n",
       "</div>"
      ],
      "text/plain": [
       "   Housewife  oc_10  oc_11  oc_12\n",
       "0          0      0      1      0\n",
       "1          0      1      0      0\n",
       "2          0      0      0      1\n",
       "3          0      0      0      1\n",
       "4          0      0      0      1"
      ]
     },
     "execution_count": 24,
     "metadata": {},
     "output_type": "execute_result"
    }
   ],
   "source": [
    "for i in range(len(df)):\n",
    "    if df[\"occupation\"][i] in [\"Unknown\",\"Student\",\"Secretarial/Admin\",\"Other\",\"Manual Worker\"]:\n",
    "        df.loc[i,\"occupation\"]=\"oc_11\"\n",
    "    if df[\"occupation\"][i] in [\"Professional\",\"Business Manager\"]:\n",
    "        df.loc[i,\"occupation\"]=\"oc_12\"\n",
    "    if df[\"occupation\"][i]==\"Retired\":\n",
    "        df.loc[i,\"occupation\"]=\"oc_10\"\n",
    "oc_dummies=pd.get_dummies(df[\"occupation\"])\n",
    "oc_dummies.head()"
   ]
  },
  {
   "cell_type": "markdown",
   "id": "92998e44",
   "metadata": {},
   "source": [
    "we will add it with dataset and drop 'occupation' column"
   ]
  },
  {
   "cell_type": "code",
   "execution_count": 25,
   "id": "0f9d0c6a",
   "metadata": {},
   "outputs": [
    {
     "name": "stderr",
     "output_type": "stream",
     "text": [
      "C:\\Users\\d\\AppData\\Local\\Temp\\ipykernel_20556\\130840160.py:1: FutureWarning: In a future version of pandas all arguments of concat except for the argument 'objs' will be keyword-only.\n",
      "  df=pd.concat([df,oc_dummies],1)\n",
      "C:\\Users\\d\\AppData\\Local\\Temp\\ipykernel_20556\\130840160.py:3: FutureWarning: In a future version of pandas all arguments of DataFrame.drop except for the argument 'labels' will be keyword-only.\n",
      "  df=df.drop([\"occupation\"],1)\n"
     ]
    }
   ],
   "source": [
    "df=pd.concat([df,oc_dummies],1)\n",
    "\n",
    "df=df.drop([\"occupation\"],1)"
   ]
  },
  {
   "cell_type": "markdown",
   "id": "5f05f5f6",
   "metadata": {},
   "source": [
    "### Occupation Partner column:"
   ]
  },
  {
   "cell_type": "code",
   "execution_count": 26,
   "id": "a4f0d98a",
   "metadata": {},
   "outputs": [
    {
     "data": {
      "text/plain": [
       "Unknown              2394\n",
       "Professional         2051\n",
       "Retired              1936\n",
       "Manual Worker        1508\n",
       "Business Manager      737\n",
       "Secretarial/Admin     662\n",
       "Housewife             527\n",
       "Other                 324\n",
       "Student                16\n",
       "Name: occupation_partner, dtype: int64"
      ]
     },
     "execution_count": 26,
     "metadata": {},
     "output_type": "execute_result"
    }
   ],
   "source": [
    "df[\"occupation_partner\"].value_counts()"
   ]
  },
  {
   "cell_type": "markdown",
   "id": "11b67a84",
   "metadata": {},
   "source": [
    "For 'occupation partner' column, we follow same process which we done for 'occupation' column "
   ]
  },
  {
   "cell_type": "code",
   "execution_count": 27,
   "id": "d391f1e6",
   "metadata": {},
   "outputs": [
    {
     "data": {
      "text/plain": [
       "occupation_partner\n",
       "Business Manager     0.11\n",
       "Housewife            0.11\n",
       "Manual Worker        0.11\n",
       "Other                0.10\n",
       "Professional         0.11\n",
       "Retired              0.10\n",
       "Secretarial/Admin    0.12\n",
       "Student              0.12\n",
       "Unknown              0.10\n",
       "Name: y, dtype: float64"
      ]
     },
     "execution_count": 27,
     "metadata": {},
     "output_type": "execute_result"
    }
   ],
   "source": [
    "round(df.groupby(\"occupation_partner\")[\"y\"].mean(),2)"
   ]
  },
  {
   "cell_type": "code",
   "execution_count": 28,
   "id": "6c06ac66",
   "metadata": {},
   "outputs": [],
   "source": [
    "df[\"ocp_10\"]=0\n",
    "df[\"ocp_11\"]=0\n",
    "df[\"ocp_12\"]=0\n",
    "for i in range(len(df)):\n",
    "    if df[\"occupation_partner\"][i] in [\"Unknown\",\"Retired\",\"Other\"]:\n",
    "        df.loc[i,\"ocp_10\"]=1\n",
    "    if df[\"occupation_partner\"][i] in [\"Business Manager\",\"Housewife\",\"Manual Worker\"]:\n",
    "        df.loc[i,\"ocp_11\"]=1\n",
    "    if df[\"occupation_partner\"][i] in [\"Student\",\"Secretarial/Admin\"]:\n",
    "        df.loc[i,\"ocp_12\"]=1"
   ]
  },
  {
   "cell_type": "code",
   "execution_count": 29,
   "id": "9ebb2bd0",
   "metadata": {},
   "outputs": [
    {
     "name": "stderr",
     "output_type": "stream",
     "text": [
      "C:\\Users\\d\\AppData\\Local\\Temp\\ipykernel_20556\\472307901.py:1: FutureWarning: In a future version of pandas all arguments of DataFrame.drop except for the argument 'labels' will be keyword-only.\n",
      "  df=df.drop([\"occupation_partner\"],1)\n"
     ]
    }
   ],
   "source": [
    "df=df.drop([\"occupation_partner\"],1)"
   ]
  },
  {
   "cell_type": "markdown",
   "id": "21aef563",
   "metadata": {},
   "source": [
    "### TVarea column:"
   ]
  },
  {
   "cell_type": "code",
   "execution_count": 30,
   "id": "7d26cfe5",
   "metadata": {},
   "outputs": [
    {
     "data": {
      "text/plain": [
       "Central          1618\n",
       "Carlton          1541\n",
       "Meridian         1226\n",
       "Yorkshire        1042\n",
       "Granada          1039\n",
       "HTV               845\n",
       "Anglia            751\n",
       "Tyne Tees         536\n",
       "Scottish TV       520\n",
       "TV South West     363\n",
       "Grampian          227\n",
       "Unknown           189\n",
       "Ulster            159\n",
       "Border             99\n",
       "Name: TVarea, dtype: int64"
      ]
     },
     "execution_count": 30,
     "metadata": {},
     "output_type": "execute_result"
    }
   ],
   "source": [
    "df[\"TVarea\"].value_counts()"
   ]
  },
  {
   "cell_type": "markdown",
   "id": "5914de3e",
   "metadata": {},
   "source": [
    "we compare TVarea column with \"y\" column which is target column and we can club those categories for which average is similar."
   ]
  },
  {
   "cell_type": "code",
   "execution_count": 31,
   "id": "3ff1cc46",
   "metadata": {},
   "outputs": [
    {
     "data": {
      "text/plain": [
       "TVarea\n",
       "Anglia           0.11\n",
       "Border           0.14\n",
       "Carlton          0.11\n",
       "Central          0.11\n",
       "Grampian         0.10\n",
       "Granada          0.12\n",
       "HTV              0.10\n",
       "Meridian         0.09\n",
       "Scottish TV      0.11\n",
       "TV South West    0.09\n",
       "Tyne Tees        0.09\n",
       "Ulster           0.12\n",
       "Unknown          0.12\n",
       "Yorkshire        0.12\n",
       "Name: y, dtype: float64"
      ]
     },
     "execution_count": 31,
     "metadata": {},
     "output_type": "execute_result"
    }
   ],
   "source": [
    "round(df.groupby(\"TVarea\")[\"y\"].mean(),2)"
   ]
  },
  {
   "cell_type": "code",
   "execution_count": 32,
   "id": "6bd9a4a7",
   "metadata": {},
   "outputs": [
    {
     "data": {
      "text/html": [
       "<div>\n",
       "<style scoped>\n",
       "    .dataframe tbody tr th:only-of-type {\n",
       "        vertical-align: middle;\n",
       "    }\n",
       "\n",
       "    .dataframe tbody tr th {\n",
       "        vertical-align: top;\n",
       "    }\n",
       "\n",
       "    .dataframe thead th {\n",
       "        text-align: right;\n",
       "    }\n",
       "</style>\n",
       "<table border=\"1\" class=\"dataframe\">\n",
       "  <thead>\n",
       "    <tr style=\"text-align: right;\">\n",
       "      <th></th>\n",
       "      <th>tv_10</th>\n",
       "      <th>tv_11</th>\n",
       "      <th>tv_12</th>\n",
       "    </tr>\n",
       "  </thead>\n",
       "  <tbody>\n",
       "    <tr>\n",
       "      <th>0</th>\n",
       "      <td>1</td>\n",
       "      <td>0</td>\n",
       "      <td>0</td>\n",
       "    </tr>\n",
       "    <tr>\n",
       "      <th>1</th>\n",
       "      <td>0</td>\n",
       "      <td>0</td>\n",
       "      <td>1</td>\n",
       "    </tr>\n",
       "    <tr>\n",
       "      <th>2</th>\n",
       "      <td>1</td>\n",
       "      <td>0</td>\n",
       "      <td>0</td>\n",
       "    </tr>\n",
       "    <tr>\n",
       "      <th>3</th>\n",
       "      <td>0</td>\n",
       "      <td>1</td>\n",
       "      <td>0</td>\n",
       "    </tr>\n",
       "    <tr>\n",
       "      <th>4</th>\n",
       "      <td>0</td>\n",
       "      <td>1</td>\n",
       "      <td>0</td>\n",
       "    </tr>\n",
       "  </tbody>\n",
       "</table>\n",
       "</div>"
      ],
      "text/plain": [
       "   tv_10  tv_11  tv_12\n",
       "0      1      0      0\n",
       "1      0      0      1\n",
       "2      1      0      0\n",
       "3      0      1      0\n",
       "4      0      1      0"
      ]
     },
     "execution_count": 32,
     "metadata": {},
     "output_type": "execute_result"
    }
   ],
   "source": [
    "for i in range(len(df)):\n",
    "    if df[\"TVarea\"][i] in [\"Anglia\",\"Carlton\",\"Central\",\"Scottish TV\"]:\n",
    "        df.loc[i,\"TVarea\"]=\"tv_11\"\n",
    "    if df[\"TVarea\"][i] in [\"Granada\",\"Ulster\",\"Unknown\",\"Yorkshire\",\"Border\"]:\n",
    "        df.loc[i,\"TVarea\"]=\"tv_12\"\n",
    "    if df[\"TVarea\"][i] in [\"Grampian\",\"HTV\",\"Meridian\",\"TV South West\",\"Tyne Tees\"]:\n",
    "        df.loc[i,\"TVarea\"]=\"tv_10\"\n",
    "tv_dummies=pd.get_dummies(df[\"TVarea\"])\n",
    "tv_dummies.head()"
   ]
  },
  {
   "cell_type": "markdown",
   "id": "01f8e5e0",
   "metadata": {},
   "source": [
    "we add this dummy variable with dataset and drop the 'TVarea' column."
   ]
  },
  {
   "cell_type": "code",
   "execution_count": 33,
   "id": "e7d36967",
   "metadata": {},
   "outputs": [
    {
     "name": "stderr",
     "output_type": "stream",
     "text": [
      "C:\\Users\\d\\AppData\\Local\\Temp\\ipykernel_20556\\3449650288.py:1: FutureWarning: In a future version of pandas all arguments of concat except for the argument 'objs' will be keyword-only.\n",
      "  df=pd.concat([df,tv_dummies],1)\n",
      "C:\\Users\\d\\AppData\\Local\\Temp\\ipykernel_20556\\3449650288.py:4: FutureWarning: In a future version of pandas all arguments of DataFrame.drop except for the argument 'labels' will be keyword-only.\n",
      "  df=df.drop([\"TVarea\"],1)\n"
     ]
    }
   ],
   "source": [
    "df=pd.concat([df,tv_dummies],1)\n",
    "\n",
    "#delete TVarea column\n",
    "df=df.drop([\"TVarea\"],1)"
   ]
  },
  {
   "cell_type": "markdown",
   "id": "b418e045",
   "metadata": {},
   "source": [
    "### Post code column and Post area column:"
   ]
  },
  {
   "cell_type": "code",
   "execution_count": 34,
   "id": "879fbdc0",
   "metadata": {},
   "outputs": [
    {
     "data": {
      "text/plain": [
       "SA15 3HP    2\n",
       "TQ12 6YA    2\n",
       "NN11 5QA    2\n",
       "PO36 9HR    2\n",
       "LU7 7UQ     2\n",
       "           ..\n",
       "NR33 8TX    1\n",
       "NG4 2DJ     1\n",
       "WA7 1JJ     1\n",
       "BB12 7HS    1\n",
       "SA70 7LW    1\n",
       "Name: post_code, Length: 10040, dtype: int64"
      ]
     },
     "execution_count": 34,
     "metadata": {},
     "output_type": "execute_result"
    }
   ],
   "source": [
    "df[\"post_code\"].value_counts()"
   ]
  },
  {
   "cell_type": "code",
   "execution_count": 35,
   "id": "30485c5a",
   "metadata": {},
   "outputs": [
    {
     "data": {
      "text/plain": [
       "PR5     35\n",
       "PR4     33\n",
       "TQ12    28\n",
       "WA7     28\n",
       "WA4     26\n",
       "        ..\n",
       "SO23     1\n",
       "SY12     1\n",
       "DA2      1\n",
       "RG45     1\n",
       "PH13     1\n",
       "Name: post_area, Length: 2039, dtype: int64"
      ]
     },
     "execution_count": 35,
     "metadata": {},
     "output_type": "execute_result"
    }
   ],
   "source": [
    "df[\"post_area\"].value_counts()"
   ]
  },
  {
   "cell_type": "markdown",
   "id": "76b9eee5",
   "metadata": {},
   "source": [
    "In post_code and post_area column,we can see that there are many unique values.so we can not deal with them.so we delete both column."
   ]
  },
  {
   "cell_type": "code",
   "execution_count": 36,
   "id": "2fa39d4b",
   "metadata": {},
   "outputs": [
    {
     "name": "stderr",
     "output_type": "stream",
     "text": [
      "C:\\Users\\d\\AppData\\Local\\Temp\\ipykernel_20556\\833517110.py:1: FutureWarning: In a future version of pandas all arguments of DataFrame.drop except for the argument 'labels' will be keyword-only.\n",
      "  df=df.drop([\"post_code\",\"post_area\"],1)\n"
     ]
    }
   ],
   "source": [
    "df=df.drop([\"post_code\",\"post_area\"],1)"
   ]
  },
  {
   "cell_type": "markdown",
   "id": "8e0f5484",
   "metadata": {},
   "source": [
    "### Home status column:"
   ]
  },
  {
   "cell_type": "code",
   "execution_count": 37,
   "id": "b6f7071b",
   "metadata": {},
   "outputs": [
    {
     "data": {
      "text/plain": [
       "Own Home                9413\n",
       "Rent from Council/HA     322\n",
       "Rent Privately           261\n",
       "Live in Parental Hom     109\n",
       "Unclassified              50\n",
       "Name: home_status, dtype: int64"
      ]
     },
     "execution_count": 37,
     "metadata": {},
     "output_type": "execute_result"
    }
   ],
   "source": [
    "df[\"home_status\"].value_counts()"
   ]
  },
  {
   "cell_type": "markdown",
   "id": "74f40ca2",
   "metadata": {},
   "source": [
    "we will create dummy variable for own home."
   ]
  },
  {
   "cell_type": "code",
   "execution_count": 38,
   "id": "a6a065a1",
   "metadata": {},
   "outputs": [],
   "source": [
    "df[\"hs_own\"]=np.where(df[\"home_status\"]==\"Own Home\",1,0)"
   ]
  },
  {
   "cell_type": "code",
   "execution_count": 39,
   "id": "c0a6ba1f",
   "metadata": {},
   "outputs": [],
   "source": [
    "#delete 'home status' column\n",
    "del df[\"home_status\"]"
   ]
  },
  {
   "cell_type": "markdown",
   "id": "24fb55d6",
   "metadata": {},
   "source": [
    "### Gender column:"
   ]
  },
  {
   "cell_type": "code",
   "execution_count": 40,
   "id": "0c7a40c6",
   "metadata": {},
   "outputs": [
    {
     "data": {
      "text/plain": [
       "Female     7634\n",
       "Male       2486\n",
       "Unknown      35\n",
       "Name: gender, dtype: int64"
      ]
     },
     "execution_count": 40,
     "metadata": {},
     "output_type": "execute_result"
    }
   ],
   "source": [
    "df[\"gender\"].value_counts()"
   ]
  },
  {
   "cell_type": "markdown",
   "id": "2b37e233",
   "metadata": {},
   "source": [
    "In gender column count of female is more.so we create new column 'gender_f' ,in these column where female is present,it shows as 1 otherwise it shows 0."
   ]
  },
  {
   "cell_type": "code",
   "execution_count": 41,
   "id": "3ea2488b",
   "metadata": {},
   "outputs": [],
   "source": [
    "df[\"gender_f\"]=np.where(df[\"gender\"]==\"Female\",1,0)"
   ]
  },
  {
   "cell_type": "code",
   "execution_count": 42,
   "id": "4784437a",
   "metadata": {},
   "outputs": [],
   "source": [
    "# delete gender column\n",
    "del df[\"gender\"]"
   ]
  },
  {
   "cell_type": "markdown",
   "id": "19cf4147",
   "metadata": {},
   "source": [
    "### Self_employed column:"
   ]
  },
  {
   "cell_type": "code",
   "execution_count": 43,
   "id": "2b37bbe5",
   "metadata": {},
   "outputs": [
    {
     "data": {
      "text/plain": [
       "No     9436\n",
       "Yes     719\n",
       "Name: self_employed, dtype: int64"
      ]
     },
     "execution_count": 43,
     "metadata": {},
     "output_type": "execute_result"
    }
   ],
   "source": [
    "df[\"self_employed\"].value_counts()"
   ]
  },
  {
   "cell_type": "markdown",
   "id": "60ef22fb",
   "metadata": {},
   "source": [
    "we create new column 'semp_yes',in these column where 'yes' is present it will show 1 and where 'no' is present it show 0."
   ]
  },
  {
   "cell_type": "code",
   "execution_count": 44,
   "id": "412f535a",
   "metadata": {},
   "outputs": [],
   "source": [
    "df[\"semp_yes\"]=np.where(df[\"self_employed\"]==\"Yes\",1,0)"
   ]
  },
  {
   "cell_type": "code",
   "execution_count": 45,
   "id": "1232f1ac",
   "metadata": {},
   "outputs": [],
   "source": [
    "#delete 'self employed 'column\n",
    "del df[\"self_employed\"]"
   ]
  },
  {
   "cell_type": "markdown",
   "id": "25a5b87d",
   "metadata": {},
   "source": [
    "### Self employed partner column:"
   ]
  },
  {
   "cell_type": "code",
   "execution_count": 46,
   "id": "d4b60f53",
   "metadata": {},
   "outputs": [
    {
     "data": {
      "text/plain": [
       "No     9026\n",
       "Yes    1129\n",
       "Name: self_employed_partner, dtype: int64"
      ]
     },
     "execution_count": 46,
     "metadata": {},
     "output_type": "execute_result"
    }
   ],
   "source": [
    "df[\"self_employed_partner\"].value_counts()"
   ]
  },
  {
   "cell_type": "markdown",
   "id": "134af951",
   "metadata": {},
   "source": [
    "we will repeate same process in 'self_employed_partner' column which we did in 'self_employed' column."
   ]
  },
  {
   "cell_type": "code",
   "execution_count": 47,
   "id": "d97fcd18",
   "metadata": {},
   "outputs": [],
   "source": [
    "df[\"semp_part_yes\"]=np.where(df[\"self_employed_partner\"]==\"Yes\",1,0)"
   ]
  },
  {
   "cell_type": "code",
   "execution_count": 48,
   "id": "aa4ea96a",
   "metadata": {},
   "outputs": [],
   "source": [
    "#delete 'self_employed_partner' column\n",
    "del df[\"self_employed_partner\"]"
   ]
  },
  {
   "cell_type": "markdown",
   "id": "8c43f196",
   "metadata": {},
   "source": [
    "### Family income column:"
   ]
  },
  {
   "cell_type": "code",
   "execution_count": 49,
   "id": "48bf3171",
   "metadata": {},
   "outputs": [
    {
     "data": {
      "text/plain": [
       ">=35,000             2517\n",
       "<27,500, >=25,000    1227\n",
       "<30,000, >=27,500     994\n",
       "<25,000, >=22,500     833\n",
       "<20,000, >=17,500     683\n",
       "<12,500, >=10,000     677\n",
       "<17,500, >=15,000     634\n",
       "<15,000, >=12,500     629\n",
       "<22,500, >=20,000     590\n",
       "<10,000, >= 8,000     563\n",
       "< 8,000, >= 4,000     402\n",
       "< 4,000               278\n",
       "Unknown               128\n",
       "Name: family_income, dtype: int64"
      ]
     },
     "execution_count": 49,
     "metadata": {},
     "output_type": "execute_result"
    }
   ],
   "source": [
    "df[\"family_income\"].value_counts()"
   ]
  },
  {
   "cell_type": "markdown",
   "id": "e10d3193",
   "metadata": {},
   "source": [
    "We can convert this to number by taking average of the range."
   ]
  },
  {
   "cell_type": "code",
   "execution_count": 50,
   "id": "03b5f7ac",
   "metadata": {},
   "outputs": [],
   "source": [
    "df[\"fi\"]=4\n",
    "df.loc[df[\"family_income\"]==\"< 8,000, >= 4,000\",\"fi\"]=6\n",
    "df.loc[df[\"family_income\"]==\"<10,000, >= 8,000\",\"fi\"]=9\n",
    "df.loc[df[\"family_income\"]==\"<12,500, >=10,000\",\"fi\"]=11.25\n",
    "df.loc[df[\"family_income\"]==\"<15,000, >=12,500\",\"fi\"]=13.75\n",
    "df.loc[df[\"family_income\"]==\"<17,500, >=15,000\",\"fi\"]=16.25\n",
    "df.loc[df[\"family_income\"]==\"<20,000, >=17,500\",\"fi\"]=18.75\n",
    "df.loc[df[\"family_income\"]==\"<22,500, >=20,000\",\"fi\"]=21.25\n",
    "df.loc[df[\"family_income\"]==\"<25,000, >=22,500\",\"fi\"]=23.75\n",
    "df.loc[df[\"family_income\"]==\"<27,500, >=25,000\",\"fi\"]=26.25\n",
    "df.loc[df[\"family_income\"]==\"<30,000, >=27,500\",\"fi\"]=28.75\n",
    "df.loc[df[\"family_income\"]==\">=35,000\",\"fi\"]=35"
   ]
  },
  {
   "cell_type": "code",
   "execution_count": 51,
   "id": "61421ebc",
   "metadata": {},
   "outputs": [
    {
     "name": "stderr",
     "output_type": "stream",
     "text": [
      "C:\\Users\\d\\AppData\\Local\\Temp\\ipykernel_20556\\2268264679.py:2: FutureWarning: In a future version of pandas all arguments of DataFrame.drop except for the argument 'labels' will be keyword-only.\n",
      "  df=df.drop([\"family_income\"],1)\n"
     ]
    }
   ],
   "source": [
    "#delete 'family income' column\n",
    "df=df.drop([\"family_income\"],1)"
   ]
  },
  {
   "cell_type": "markdown",
   "id": "7eecadde",
   "metadata": {},
   "source": [
    "### Region column:"
   ]
  },
  {
   "cell_type": "code",
   "execution_count": 52,
   "id": "34c671f3",
   "metadata": {},
   "outputs": [
    {
     "data": {
      "text/plain": [
       "South East          2100\n",
       "North West          1896\n",
       "Unknown             1080\n",
       "South West           971\n",
       "West Midlands        820\n",
       "Scotland             787\n",
       "East Midlands        771\n",
       "North                571\n",
       "Wales                556\n",
       "East Anglia          423\n",
       "Northern Ireland     159\n",
       "Isle of Man           16\n",
       "Channel Islands        5\n",
       "Name: region, dtype: int64"
      ]
     },
     "execution_count": 52,
     "metadata": {},
     "output_type": "execute_result"
    }
   ],
   "source": [
    "df[\"region\"].value_counts()"
   ]
  },
  {
   "cell_type": "markdown",
   "id": "0be52ba1",
   "metadata": {},
   "source": [
    "we will compare 'region' column with 'y' column and we can club those categories for which average is similar"
   ]
  },
  {
   "cell_type": "code",
   "execution_count": 53,
   "id": "c41429df",
   "metadata": {},
   "outputs": [
    {
     "data": {
      "text/plain": [
       "region\n",
       "Channel Islands     0.20\n",
       "East Anglia         0.13\n",
       "East Midlands       0.10\n",
       "Isle of Man         0.00\n",
       "North               0.10\n",
       "North West          0.11\n",
       "Northern Ireland    0.12\n",
       "Scotland            0.11\n",
       "South East          0.10\n",
       "South West          0.09\n",
       "Unknown             0.12\n",
       "Wales               0.11\n",
       "West Midlands       0.11\n",
       "Name: y, dtype: float64"
      ]
     },
     "execution_count": 53,
     "metadata": {},
     "output_type": "execute_result"
    }
   ],
   "source": [
    "round(df.groupby(\"region\")[\"y\"].mean(),2)"
   ]
  },
  {
   "cell_type": "code",
   "execution_count": 54,
   "id": "bae60dfb",
   "metadata": {},
   "outputs": [
    {
     "data": {
      "text/html": [
       "<div>\n",
       "<style scoped>\n",
       "    .dataframe tbody tr th:only-of-type {\n",
       "        vertical-align: middle;\n",
       "    }\n",
       "\n",
       "    .dataframe tbody tr th {\n",
       "        vertical-align: top;\n",
       "    }\n",
       "\n",
       "    .dataframe thead th {\n",
       "        text-align: right;\n",
       "    }\n",
       "</style>\n",
       "<table border=\"1\" class=\"dataframe\">\n",
       "  <thead>\n",
       "    <tr style=\"text-align: right;\">\n",
       "      <th></th>\n",
       "      <th>Channel Islands</th>\n",
       "      <th>Isle of Man</th>\n",
       "      <th>re_10</th>\n",
       "      <th>re_11</th>\n",
       "      <th>re_12</th>\n",
       "    </tr>\n",
       "  </thead>\n",
       "  <tbody>\n",
       "    <tr>\n",
       "      <th>0</th>\n",
       "      <td>0</td>\n",
       "      <td>0</td>\n",
       "      <td>0</td>\n",
       "      <td>1</td>\n",
       "      <td>0</td>\n",
       "    </tr>\n",
       "    <tr>\n",
       "      <th>1</th>\n",
       "      <td>0</td>\n",
       "      <td>0</td>\n",
       "      <td>0</td>\n",
       "      <td>1</td>\n",
       "      <td>0</td>\n",
       "    </tr>\n",
       "    <tr>\n",
       "      <th>2</th>\n",
       "      <td>0</td>\n",
       "      <td>0</td>\n",
       "      <td>1</td>\n",
       "      <td>0</td>\n",
       "      <td>0</td>\n",
       "    </tr>\n",
       "    <tr>\n",
       "      <th>3</th>\n",
       "      <td>0</td>\n",
       "      <td>0</td>\n",
       "      <td>0</td>\n",
       "      <td>1</td>\n",
       "      <td>0</td>\n",
       "    </tr>\n",
       "    <tr>\n",
       "      <th>4</th>\n",
       "      <td>0</td>\n",
       "      <td>0</td>\n",
       "      <td>0</td>\n",
       "      <td>1</td>\n",
       "      <td>0</td>\n",
       "    </tr>\n",
       "  </tbody>\n",
       "</table>\n",
       "</div>"
      ],
      "text/plain": [
       "   Channel Islands  Isle of Man  re_10  re_11  re_12\n",
       "0                0            0      0      1      0\n",
       "1                0            0      0      1      0\n",
       "2                0            0      1      0      0\n",
       "3                0            0      0      1      0\n",
       "4                0            0      0      1      0"
      ]
     },
     "execution_count": 54,
     "metadata": {},
     "output_type": "execute_result"
    }
   ],
   "source": [
    "for i in range(len(df)):\n",
    "    if df[\"region\"][i] in [\"East Midlands\",\"North\",\"South East\",\"South West\"]:\n",
    "        df.loc[i,\"region\"]=\"re_10\"\n",
    "    if df[\"region\"][i] in [\"North West\",\"Scotland\",\"Wales\",\"West Midlands\"]:\n",
    "        df.loc[i,\"region\"]=\"re_11\"\n",
    "    if df[\"region\"][i] in [\"East Anglia\",\"Northern Ireland\",\"Unknown\"]:\n",
    "        df.loc[i,\"region\"]=\"re_12\"\n",
    "re_dummies=pd.get_dummies(df[\"region\"])\n",
    "re_dummies.head()"
   ]
  },
  {
   "cell_type": "markdown",
   "id": "9df8dc6d",
   "metadata": {},
   "source": [
    "we will add it with dataset and delete unnecessary column"
   ]
  },
  {
   "cell_type": "code",
   "execution_count": 55,
   "id": "dd5b4fc5",
   "metadata": {},
   "outputs": [
    {
     "name": "stderr",
     "output_type": "stream",
     "text": [
      "C:\\Users\\d\\AppData\\Local\\Temp\\ipykernel_20556\\861981040.py:1: FutureWarning: In a future version of pandas all arguments of concat except for the argument 'objs' will be keyword-only.\n",
      "  df=pd.concat([df,re_dummies],1)\n",
      "C:\\Users\\d\\AppData\\Local\\Temp\\ipykernel_20556\\861981040.py:4: FutureWarning: In a future version of pandas all arguments of DataFrame.drop except for the argument 'labels' will be keyword-only.\n",
      "  df=df.drop([\"region\",\"Channel Islands\",\"Isle of Man\"],1)\n"
     ]
    }
   ],
   "source": [
    "df=pd.concat([df,re_dummies],1)\n",
    "\n",
    "#delete unnecessary column\n",
    "df=df.drop([\"region\",\"Channel Islands\",\"Isle of Man\"],1)"
   ]
  },
  {
   "cell_type": "code",
   "execution_count": 56,
   "id": "e451e093",
   "metadata": {},
   "outputs": [
    {
     "data": {
      "text/plain": [
       "REF_NO                               int64\n",
       "children                             int64\n",
       "year_last_moved                      int64\n",
       "Average Credit Card Transaction    float64\n",
       "Balance Transfer                   float64\n",
       "Term Deposit                       float64\n",
       "Life Insurance                     float64\n",
       "Medical Insurance                  float64\n",
       "Average A/C Balance                float64\n",
       "Personal Loan                      float64\n",
       "Investment in Mutual Fund          float64\n",
       "Investment Tax Saving Bond         float64\n",
       "Home Loan                          float64\n",
       "Online Purchase Amount             float64\n",
       "Investment in Commudity            float64\n",
       "Investment in Equity               float64\n",
       "Investment in Derivative           float64\n",
       "Portfolio Balance                  float64\n",
       "y                                    int32\n",
       "ab_10                                uint8\n",
       "ab_11                                uint8\n",
       "ab_13                                uint8\n",
       "ab_17                                uint8\n",
       "ab_9                                 uint8\n",
       "st_partner                           int32\n",
       "st_singleNm                          int32\n",
       "st_divSep                            int32\n",
       "Housewife                            uint8\n",
       "oc_10                                uint8\n",
       "oc_11                                uint8\n",
       "oc_12                                uint8\n",
       "ocp_10                               int64\n",
       "ocp_11                               int64\n",
       "ocp_12                               int64\n",
       "tv_10                                uint8\n",
       "tv_11                                uint8\n",
       "tv_12                                uint8\n",
       "hs_own                               int32\n",
       "gender_f                             int32\n",
       "semp_yes                             int32\n",
       "semp_part_yes                        int32\n",
       "fi                                 float64\n",
       "re_10                                uint8\n",
       "re_11                                uint8\n",
       "re_12                                uint8\n",
       "dtype: object"
      ]
     },
     "execution_count": 56,
     "metadata": {},
     "output_type": "execute_result"
    }
   ],
   "source": [
    "df.dtypes"
   ]
  },
  {
   "cell_type": "markdown",
   "id": "0d34e637",
   "metadata": {},
   "source": [
    "Now we can see that the entire data is of numeric type."
   ]
  },
  {
   "cell_type": "code",
   "execution_count": 57,
   "id": "21d56b6e",
   "metadata": {},
   "outputs": [],
   "source": [
    "df.dropna(axis=0,inplace=True)"
   ]
  },
  {
   "cell_type": "code",
   "execution_count": 58,
   "id": "4d57486e",
   "metadata": {},
   "outputs": [
    {
     "data": {
      "text/plain": [
       "(10155, 45)"
      ]
     },
     "execution_count": 58,
     "metadata": {},
     "output_type": "execute_result"
    }
   ],
   "source": [
    "df.shape"
   ]
  },
  {
   "cell_type": "code",
   "execution_count": 59,
   "id": "c8e47538",
   "metadata": {},
   "outputs": [
    {
     "name": "stderr",
     "output_type": "stream",
     "text": [
      "C:\\Users\\d\\AppData\\Local\\Temp\\ipykernel_20556\\2765815353.py:2: FutureWarning: In a future version of pandas all arguments of DataFrame.drop except for the argument 'labels' will be keyword-only.\n",
      "  df=df.drop([\"REF_NO\"],1)\n"
     ]
    }
   ],
   "source": [
    "#Drop unnecessary Columns:\n",
    "df=df.drop([\"REF_NO\"],1)"
   ]
  },
  {
   "cell_type": "markdown",
   "id": "0c38d4a8",
   "metadata": {},
   "source": [
    "## Train-Test split:"
   ]
  },
  {
   "cell_type": "markdown",
   "id": "5f5a53e9",
   "metadata": {},
   "source": [
    "Now we will split our data in two random part.one is training data in which we build our model and second is test data in which we test our model performance"
   ]
  },
  {
   "cell_type": "code",
   "execution_count": 60,
   "id": "fb664c0e",
   "metadata": {},
   "outputs": [],
   "source": [
    "df_train, df_test = train_test_split(df, test_size = 0.2,random_state=2)"
   ]
  },
  {
   "cell_type": "code",
   "execution_count": 61,
   "id": "8529fa20",
   "metadata": {},
   "outputs": [
    {
     "name": "stderr",
     "output_type": "stream",
     "text": [
      "C:\\Users\\d\\AppData\\Local\\Temp\\ipykernel_20556\\3183347257.py:1: FutureWarning: In a future version of pandas all arguments of DataFrame.drop except for the argument 'labels' will be keyword-only.\n",
      "  x_train=df_train.drop([\"y\"],1)\n",
      "C:\\Users\\d\\AppData\\Local\\Temp\\ipykernel_20556\\3183347257.py:3: FutureWarning: In a future version of pandas all arguments of DataFrame.drop except for the argument 'labels' will be keyword-only.\n",
      "  x_test=df_test.drop([\"y\"],1)\n"
     ]
    }
   ],
   "source": [
    "x_train=df_train.drop([\"y\"],1)\n",
    "y_train=df_train[\"y\"]\n",
    "x_test=df_test.drop([\"y\"],1)\n",
    "y_test=df_test[\"y\"]"
   ]
  },
  {
   "cell_type": "markdown",
   "id": "de971b23",
   "metadata": {},
   "source": [
    "## Model building:"
   ]
  },
  {
   "cell_type": "markdown",
   "id": "70015d5b",
   "metadata": {},
   "source": [
    "### Logistic Regression model:"
   ]
  },
  {
   "cell_type": "code",
   "execution_count": 62,
   "id": "5a7e0158",
   "metadata": {},
   "outputs": [],
   "source": [
    "logr=LogisticRegression(penalty=\"l2\",class_weight=\"balanced\",random_state=2)"
   ]
  },
  {
   "cell_type": "code",
   "execution_count": 63,
   "id": "f87cbf46",
   "metadata": {},
   "outputs": [
    {
     "name": "stderr",
     "output_type": "stream",
     "text": [
      "C:\\Users\\d\\anaconda3\\lib\\site-packages\\sklearn\\linear_model\\_logistic.py:458: ConvergenceWarning: lbfgs failed to converge (status=1):\n",
      "STOP: TOTAL NO. of ITERATIONS REACHED LIMIT.\n",
      "\n",
      "Increase the number of iterations (max_iter) or scale the data as shown in:\n",
      "    https://scikit-learn.org/stable/modules/preprocessing.html\n",
      "Please also refer to the documentation for alternative solver options:\n",
      "    https://scikit-learn.org/stable/modules/linear_model.html#logistic-regression\n",
      "  n_iter_i = _check_optimize_result(\n"
     ]
    },
    {
     "data": {
      "text/html": [
       "<style>#sk-container-id-1 {color: black;background-color: white;}#sk-container-id-1 pre{padding: 0;}#sk-container-id-1 div.sk-toggleable {background-color: white;}#sk-container-id-1 label.sk-toggleable__label {cursor: pointer;display: block;width: 100%;margin-bottom: 0;padding: 0.3em;box-sizing: border-box;text-align: center;}#sk-container-id-1 label.sk-toggleable__label-arrow:before {content: \"▸\";float: left;margin-right: 0.25em;color: #696969;}#sk-container-id-1 label.sk-toggleable__label-arrow:hover:before {color: black;}#sk-container-id-1 div.sk-estimator:hover label.sk-toggleable__label-arrow:before {color: black;}#sk-container-id-1 div.sk-toggleable__content {max-height: 0;max-width: 0;overflow: hidden;text-align: left;background-color: #f0f8ff;}#sk-container-id-1 div.sk-toggleable__content pre {margin: 0.2em;color: black;border-radius: 0.25em;background-color: #f0f8ff;}#sk-container-id-1 input.sk-toggleable__control:checked~div.sk-toggleable__content {max-height: 200px;max-width: 100%;overflow: auto;}#sk-container-id-1 input.sk-toggleable__control:checked~label.sk-toggleable__label-arrow:before {content: \"▾\";}#sk-container-id-1 div.sk-estimator input.sk-toggleable__control:checked~label.sk-toggleable__label {background-color: #d4ebff;}#sk-container-id-1 div.sk-label input.sk-toggleable__control:checked~label.sk-toggleable__label {background-color: #d4ebff;}#sk-container-id-1 input.sk-hidden--visually {border: 0;clip: rect(1px 1px 1px 1px);clip: rect(1px, 1px, 1px, 1px);height: 1px;margin: -1px;overflow: hidden;padding: 0;position: absolute;width: 1px;}#sk-container-id-1 div.sk-estimator {font-family: monospace;background-color: #f0f8ff;border: 1px dotted black;border-radius: 0.25em;box-sizing: border-box;margin-bottom: 0.5em;}#sk-container-id-1 div.sk-estimator:hover {background-color: #d4ebff;}#sk-container-id-1 div.sk-parallel-item::after {content: \"\";width: 100%;border-bottom: 1px solid gray;flex-grow: 1;}#sk-container-id-1 div.sk-label:hover label.sk-toggleable__label {background-color: #d4ebff;}#sk-container-id-1 div.sk-serial::before {content: \"\";position: absolute;border-left: 1px solid gray;box-sizing: border-box;top: 0;bottom: 0;left: 50%;z-index: 0;}#sk-container-id-1 div.sk-serial {display: flex;flex-direction: column;align-items: center;background-color: white;padding-right: 0.2em;padding-left: 0.2em;position: relative;}#sk-container-id-1 div.sk-item {position: relative;z-index: 1;}#sk-container-id-1 div.sk-parallel {display: flex;align-items: stretch;justify-content: center;background-color: white;position: relative;}#sk-container-id-1 div.sk-item::before, #sk-container-id-1 div.sk-parallel-item::before {content: \"\";position: absolute;border-left: 1px solid gray;box-sizing: border-box;top: 0;bottom: 0;left: 50%;z-index: -1;}#sk-container-id-1 div.sk-parallel-item {display: flex;flex-direction: column;z-index: 1;position: relative;background-color: white;}#sk-container-id-1 div.sk-parallel-item:first-child::after {align-self: flex-end;width: 50%;}#sk-container-id-1 div.sk-parallel-item:last-child::after {align-self: flex-start;width: 50%;}#sk-container-id-1 div.sk-parallel-item:only-child::after {width: 0;}#sk-container-id-1 div.sk-dashed-wrapped {border: 1px dashed gray;margin: 0 0.4em 0.5em 0.4em;box-sizing: border-box;padding-bottom: 0.4em;background-color: white;}#sk-container-id-1 div.sk-label label {font-family: monospace;font-weight: bold;display: inline-block;line-height: 1.2em;}#sk-container-id-1 div.sk-label-container {text-align: center;}#sk-container-id-1 div.sk-container {/* jupyter's `normalize.less` sets `[hidden] { display: none; }` but bootstrap.min.css set `[hidden] { display: none !important; }` so we also need the `!important` here to be able to override the default hidden behavior on the sphinx rendered scikit-learn.org. See: https://github.com/scikit-learn/scikit-learn/issues/21755 */display: inline-block !important;position: relative;}#sk-container-id-1 div.sk-text-repr-fallback {display: none;}</style><div id=\"sk-container-id-1\" class=\"sk-top-container\"><div class=\"sk-text-repr-fallback\"><pre>LogisticRegression(class_weight=&#x27;balanced&#x27;, random_state=2)</pre><b>In a Jupyter environment, please rerun this cell to show the HTML representation or trust the notebook. <br />On GitHub, the HTML representation is unable to render, please try loading this page with nbviewer.org.</b></div><div class=\"sk-container\" hidden><div class=\"sk-item\"><div class=\"sk-estimator sk-toggleable\"><input class=\"sk-toggleable__control sk-hidden--visually\" id=\"sk-estimator-id-1\" type=\"checkbox\" checked><label for=\"sk-estimator-id-1\" class=\"sk-toggleable__label sk-toggleable__label-arrow\">LogisticRegression</label><div class=\"sk-toggleable__content\"><pre>LogisticRegression(class_weight=&#x27;balanced&#x27;, random_state=2)</pre></div></div></div></div></div>"
      ],
      "text/plain": [
       "LogisticRegression(class_weight='balanced', random_state=2)"
      ]
     },
     "execution_count": 63,
     "metadata": {},
     "output_type": "execute_result"
    }
   ],
   "source": [
    "logr.fit(x_train,y_train)"
   ]
  },
  {
   "cell_type": "markdown",
   "id": "d9b470bd",
   "metadata": {},
   "source": [
    "### Model Evalution:"
   ]
  },
  {
   "cell_type": "code",
   "execution_count": 64,
   "id": "2e893a92",
   "metadata": {},
   "outputs": [
    {
     "name": "stdout",
     "output_type": "stream",
     "text": [
      "[[1656  151]\n",
      " [  31  193]]\n"
     ]
    }
   ],
   "source": [
    "# confusion matrix\n",
    "y_pred = logr.predict(x_test)\n",
    "cm = confusion_matrix(y_test, y_pred)\n",
    "print(cm)"
   ]
  },
  {
   "cell_type": "code",
   "execution_count": 65,
   "id": "a4e8548a",
   "metadata": {},
   "outputs": [
    {
     "name": "stdout",
     "output_type": "stream",
     "text": [
      "Accuracy: 0.9103889709502708\n",
      "Precision: 0.561046511627907\n",
      "Recall: 0.8616071428571429\n"
     ]
    }
   ],
   "source": [
    "y_pred = logr.predict(x_test)\n",
    "\n",
    "accuracy = accuracy_score(y_test, y_pred)\n",
    "precision = precision_score(y_test, y_pred)\n",
    "recall = recall_score(y_test, y_pred)\n",
    "\n",
    "\n",
    "print(\"Accuracy:\", accuracy)\n",
    "print(\"Precision:\", precision)\n",
    "print(\"Recall:\", recall)\n"
   ]
  },
  {
   "cell_type": "markdown",
   "id": "0b3060b0",
   "metadata": {},
   "source": [
    "### K fold cross validation:"
   ]
  },
  {
   "cell_type": "code",
   "execution_count": 66,
   "id": "8beb4288",
   "metadata": {
    "scrolled": false
   },
   "outputs": [
    {
     "name": "stderr",
     "output_type": "stream",
     "text": [
      "C:\\Users\\d\\anaconda3\\lib\\site-packages\\sklearn\\linear_model\\_logistic.py:458: ConvergenceWarning: lbfgs failed to converge (status=1):\n",
      "STOP: TOTAL NO. of ITERATIONS REACHED LIMIT.\n",
      "\n",
      "Increase the number of iterations (max_iter) or scale the data as shown in:\n",
      "    https://scikit-learn.org/stable/modules/preprocessing.html\n",
      "Please also refer to the documentation for alternative solver options:\n",
      "    https://scikit-learn.org/stable/modules/linear_model.html#logistic-regression\n",
      "  n_iter_i = _check_optimize_result(\n",
      "C:\\Users\\d\\anaconda3\\lib\\site-packages\\sklearn\\linear_model\\_logistic.py:458: ConvergenceWarning: lbfgs failed to converge (status=1):\n",
      "STOP: TOTAL NO. of ITERATIONS REACHED LIMIT.\n",
      "\n",
      "Increase the number of iterations (max_iter) or scale the data as shown in:\n",
      "    https://scikit-learn.org/stable/modules/preprocessing.html\n",
      "Please also refer to the documentation for alternative solver options:\n",
      "    https://scikit-learn.org/stable/modules/linear_model.html#logistic-regression\n",
      "  n_iter_i = _check_optimize_result(\n",
      "C:\\Users\\d\\anaconda3\\lib\\site-packages\\sklearn\\linear_model\\_logistic.py:458: ConvergenceWarning: lbfgs failed to converge (status=1):\n",
      "STOP: TOTAL NO. of ITERATIONS REACHED LIMIT.\n",
      "\n",
      "Increase the number of iterations (max_iter) or scale the data as shown in:\n",
      "    https://scikit-learn.org/stable/modules/preprocessing.html\n",
      "Please also refer to the documentation for alternative solver options:\n",
      "    https://scikit-learn.org/stable/modules/linear_model.html#logistic-regression\n",
      "  n_iter_i = _check_optimize_result(\n",
      "C:\\Users\\d\\anaconda3\\lib\\site-packages\\sklearn\\linear_model\\_logistic.py:458: ConvergenceWarning: lbfgs failed to converge (status=1):\n",
      "STOP: TOTAL NO. of ITERATIONS REACHED LIMIT.\n",
      "\n",
      "Increase the number of iterations (max_iter) or scale the data as shown in:\n",
      "    https://scikit-learn.org/stable/modules/preprocessing.html\n",
      "Please also refer to the documentation for alternative solver options:\n",
      "    https://scikit-learn.org/stable/modules/linear_model.html#logistic-regression\n",
      "  n_iter_i = _check_optimize_result(\n"
     ]
    },
    {
     "name": "stdout",
     "output_type": "stream",
     "text": [
      "Accuracy: 90.68 %\n",
      "Standard Deviation: 1.08 %\n"
     ]
    },
    {
     "name": "stderr",
     "output_type": "stream",
     "text": [
      "C:\\Users\\d\\anaconda3\\lib\\site-packages\\sklearn\\linear_model\\_logistic.py:458: ConvergenceWarning: lbfgs failed to converge (status=1):\n",
      "STOP: TOTAL NO. of ITERATIONS REACHED LIMIT.\n",
      "\n",
      "Increase the number of iterations (max_iter) or scale the data as shown in:\n",
      "    https://scikit-learn.org/stable/modules/preprocessing.html\n",
      "Please also refer to the documentation for alternative solver options:\n",
      "    https://scikit-learn.org/stable/modules/linear_model.html#logistic-regression\n",
      "  n_iter_i = _check_optimize_result(\n"
     ]
    }
   ],
   "source": [
    "accuracies = cross_val_score(estimator = logr, X = x_train, y = y_train, cv = 5)\n",
    "print(\"Accuracy: {:.2f} %\".format(accuracies.mean()*100))\n",
    "print(\"Standard Deviation: {:.2f} %\".format(accuracies.std()*100))"
   ]
  },
  {
   "cell_type": "markdown",
   "id": "2143cc48",
   "metadata": {},
   "source": [
    "## K-Nearest Neighbor (KNN):"
   ]
  },
  {
   "cell_type": "code",
   "execution_count": 67,
   "id": "1932c131",
   "metadata": {},
   "outputs": [
    {
     "data": {
      "text/plain": [
       "0.9522402757262433"
      ]
     },
     "execution_count": 67,
     "metadata": {},
     "output_type": "execute_result"
    }
   ],
   "source": [
    "classifier= KNeighborsClassifier(n_neighbors=7, metric='minkowski', p=7 )  \n",
    "classifier.fit(x_train, y_train)\n",
    "y_pred = classifier.predict(x_test)\n",
    "\n",
    "cm = confusion_matrix(y_test, y_pred)\n",
    "accuracy_score(y_test, y_pred)"
   ]
  },
  {
   "cell_type": "code",
   "execution_count": 68,
   "id": "c6c7907b",
   "metadata": {},
   "outputs": [
    {
     "name": "stdout",
     "output_type": "stream",
     "text": [
      "value of k is  2\n",
      "accuracy= 0.9458394879369768\n",
      "precision= 0.9523809523809523\n",
      "recall= 0.5357142857142857\n",
      "*****************************************\n",
      "value of k is  3\n",
      "accuracy= 0.9512555391432792\n",
      "precision= 0.8930817610062893\n",
      "recall= 0.6339285714285714\n",
      "*****************************************\n",
      "value of k is  4\n",
      "accuracy= 0.9517479074347612\n",
      "precision= 0.9565217391304348\n",
      "recall= 0.5892857142857143\n",
      "*****************************************\n",
      "value of k is  5\n",
      "accuracy= 0.9537173806006893\n",
      "precision= 0.9276315789473685\n",
      "recall= 0.6294642857142857\n",
      "*****************************************\n",
      "value of k is  6\n",
      "accuracy= 0.9532250123092073\n",
      "precision= 0.9708029197080292\n",
      "recall= 0.59375\n",
      "*****************************************\n",
      "value of k is  7\n",
      "accuracy= 0.9537173806006893\n",
      "precision= 0.9276315789473685\n",
      "recall= 0.6294642857142857\n",
      "*****************************************\n",
      "value of k is  8\n",
      "accuracy= 0.9502708025603152\n",
      "precision= 0.9424460431654677\n",
      "recall= 0.5848214285714286\n",
      "*****************************************\n",
      "value of k is  9\n",
      "accuracy= 0.9527326440177253\n",
      "precision= 0.9383561643835616\n",
      "recall= 0.6116071428571429\n",
      "*****************************************\n",
      "value of k is  10\n",
      "accuracy= 0.9487936976858691\n",
      "precision= 0.9545454545454546\n",
      "recall= 0.5625\n",
      "*****************************************\n"
     ]
    }
   ],
   "source": [
    "for k in [2,3,4,5,6,7,8,9,10]:\n",
    "    print(\"value of k is \", k)\n",
    "    classifier = KNeighborsClassifier(n_neighbors=k)\n",
    "    classifier.fit(x_train, y_train)\n",
    "    y_pred = classifier.predict(x_test)\n",
    "    accuracy = accuracy_score(y_test, y_pred)\n",
    "    print(\"accuracy=\",accuracy)\n",
    "    precision = precision_score(y_test, y_pred)\n",
    "    print(\"precision=\",precision)\n",
    "    recall = recall_score(y_test, y_pred)\n",
    "    print(\"recall=\",recall)\n",
    "    print(\"*****************************************\")"
   ]
  },
  {
   "cell_type": "markdown",
   "id": "b76ef248",
   "metadata": {},
   "source": [
    "## Support vector machine algorithm:"
   ]
  },
  {
   "cell_type": "code",
   "execution_count": 69,
   "id": "e3457d05",
   "metadata": {},
   "outputs": [
    {
     "data": {
      "text/html": [
       "<style>#sk-container-id-2 {color: black;background-color: white;}#sk-container-id-2 pre{padding: 0;}#sk-container-id-2 div.sk-toggleable {background-color: white;}#sk-container-id-2 label.sk-toggleable__label {cursor: pointer;display: block;width: 100%;margin-bottom: 0;padding: 0.3em;box-sizing: border-box;text-align: center;}#sk-container-id-2 label.sk-toggleable__label-arrow:before {content: \"▸\";float: left;margin-right: 0.25em;color: #696969;}#sk-container-id-2 label.sk-toggleable__label-arrow:hover:before {color: black;}#sk-container-id-2 div.sk-estimator:hover label.sk-toggleable__label-arrow:before {color: black;}#sk-container-id-2 div.sk-toggleable__content {max-height: 0;max-width: 0;overflow: hidden;text-align: left;background-color: #f0f8ff;}#sk-container-id-2 div.sk-toggleable__content pre {margin: 0.2em;color: black;border-radius: 0.25em;background-color: #f0f8ff;}#sk-container-id-2 input.sk-toggleable__control:checked~div.sk-toggleable__content {max-height: 200px;max-width: 100%;overflow: auto;}#sk-container-id-2 input.sk-toggleable__control:checked~label.sk-toggleable__label-arrow:before {content: \"▾\";}#sk-container-id-2 div.sk-estimator input.sk-toggleable__control:checked~label.sk-toggleable__label {background-color: #d4ebff;}#sk-container-id-2 div.sk-label input.sk-toggleable__control:checked~label.sk-toggleable__label {background-color: #d4ebff;}#sk-container-id-2 input.sk-hidden--visually {border: 0;clip: rect(1px 1px 1px 1px);clip: rect(1px, 1px, 1px, 1px);height: 1px;margin: -1px;overflow: hidden;padding: 0;position: absolute;width: 1px;}#sk-container-id-2 div.sk-estimator {font-family: monospace;background-color: #f0f8ff;border: 1px dotted black;border-radius: 0.25em;box-sizing: border-box;margin-bottom: 0.5em;}#sk-container-id-2 div.sk-estimator:hover {background-color: #d4ebff;}#sk-container-id-2 div.sk-parallel-item::after {content: \"\";width: 100%;border-bottom: 1px solid gray;flex-grow: 1;}#sk-container-id-2 div.sk-label:hover label.sk-toggleable__label {background-color: #d4ebff;}#sk-container-id-2 div.sk-serial::before {content: \"\";position: absolute;border-left: 1px solid gray;box-sizing: border-box;top: 0;bottom: 0;left: 50%;z-index: 0;}#sk-container-id-2 div.sk-serial {display: flex;flex-direction: column;align-items: center;background-color: white;padding-right: 0.2em;padding-left: 0.2em;position: relative;}#sk-container-id-2 div.sk-item {position: relative;z-index: 1;}#sk-container-id-2 div.sk-parallel {display: flex;align-items: stretch;justify-content: center;background-color: white;position: relative;}#sk-container-id-2 div.sk-item::before, #sk-container-id-2 div.sk-parallel-item::before {content: \"\";position: absolute;border-left: 1px solid gray;box-sizing: border-box;top: 0;bottom: 0;left: 50%;z-index: -1;}#sk-container-id-2 div.sk-parallel-item {display: flex;flex-direction: column;z-index: 1;position: relative;background-color: white;}#sk-container-id-2 div.sk-parallel-item:first-child::after {align-self: flex-end;width: 50%;}#sk-container-id-2 div.sk-parallel-item:last-child::after {align-self: flex-start;width: 50%;}#sk-container-id-2 div.sk-parallel-item:only-child::after {width: 0;}#sk-container-id-2 div.sk-dashed-wrapped {border: 1px dashed gray;margin: 0 0.4em 0.5em 0.4em;box-sizing: border-box;padding-bottom: 0.4em;background-color: white;}#sk-container-id-2 div.sk-label label {font-family: monospace;font-weight: bold;display: inline-block;line-height: 1.2em;}#sk-container-id-2 div.sk-label-container {text-align: center;}#sk-container-id-2 div.sk-container {/* jupyter's `normalize.less` sets `[hidden] { display: none; }` but bootstrap.min.css set `[hidden] { display: none !important; }` so we also need the `!important` here to be able to override the default hidden behavior on the sphinx rendered scikit-learn.org. See: https://github.com/scikit-learn/scikit-learn/issues/21755 */display: inline-block !important;position: relative;}#sk-container-id-2 div.sk-text-repr-fallback {display: none;}</style><div id=\"sk-container-id-2\" class=\"sk-top-container\"><div class=\"sk-text-repr-fallback\"><pre>SVC(random_state=0)</pre><b>In a Jupyter environment, please rerun this cell to show the HTML representation or trust the notebook. <br />On GitHub, the HTML representation is unable to render, please try loading this page with nbviewer.org.</b></div><div class=\"sk-container\" hidden><div class=\"sk-item\"><div class=\"sk-estimator sk-toggleable\"><input class=\"sk-toggleable__control sk-hidden--visually\" id=\"sk-estimator-id-2\" type=\"checkbox\" checked><label for=\"sk-estimator-id-2\" class=\"sk-toggleable__label sk-toggleable__label-arrow\">SVC</label><div class=\"sk-toggleable__content\"><pre>SVC(random_state=0)</pre></div></div></div></div></div>"
      ],
      "text/plain": [
       "SVC(random_state=0)"
      ]
     },
     "execution_count": 69,
     "metadata": {},
     "output_type": "execute_result"
    }
   ],
   "source": [
    "svm = SVC(kernel = 'rbf', random_state = 0)\n",
    "svm.fit(x_train, y_train)"
   ]
  },
  {
   "cell_type": "markdown",
   "id": "f62d572b",
   "metadata": {},
   "source": [
    "### Model Evaluation"
   ]
  },
  {
   "cell_type": "code",
   "execution_count": 70,
   "id": "15389d4e",
   "metadata": {},
   "outputs": [
    {
     "name": "stdout",
     "output_type": "stream",
     "text": [
      "[[1807    0]\n",
      " [ 171   53]]\n"
     ]
    }
   ],
   "source": [
    "y_pred = svm.predict(x_test)\n",
    "cm = confusion_matrix(y_test, y_pred)\n",
    "print(cm)"
   ]
  },
  {
   "cell_type": "code",
   "execution_count": 71,
   "id": "81e66c9b",
   "metadata": {},
   "outputs": [
    {
     "name": "stdout",
     "output_type": "stream",
     "text": [
      "accuracy= 0.9158050221565731\n",
      "precision= 1.0\n",
      "recall= 0.23660714285714285\n"
     ]
    }
   ],
   "source": [
    "accuracy=accuracy_score(y_test, y_pred)\n",
    "print(\"accuracy=\",accuracy)\n",
    "precision = precision_score(y_test, y_pred)\n",
    "print(\"precision=\",precision)\n",
    "recall = recall_score(y_test, y_pred)\n",
    "print(\"recall=\",recall)"
   ]
  }
 ],
 "metadata": {
  "kernelspec": {
   "display_name": "Python 3 (ipykernel)",
   "language": "python",
   "name": "python3"
  },
  "language_info": {
   "codemirror_mode": {
    "name": "ipython",
    "version": 3
   },
   "file_extension": ".py",
   "mimetype": "text/x-python",
   "name": "python",
   "nbconvert_exporter": "python",
   "pygments_lexer": "ipython3",
   "version": "3.10.9"
  }
 },
 "nbformat": 4,
 "nbformat_minor": 5
}
